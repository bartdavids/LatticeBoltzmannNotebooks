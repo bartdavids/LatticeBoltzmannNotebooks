{
  "nbformat": 4,
  "nbformat_minor": 0,
  "metadata": {
    "colab": {
      "provenance": []
    },
    "kernelspec": {
      "name": "python3",
      "display_name": "Python 3"
    },
    "language_info": {
      "name": "python"
    },
    "accelerator": "GPU"
  },
  "cells": [
    {
      "cell_type": "markdown",
      "source": [
        "# The Lattice Boltzmann Method - stress and force\n",
        "\n",
        "This notebook uses the Lattice Boltzmann (LBM) Method for numerical simulation of fluid flow to calculate the flow around a sphere. Written in python and jax. This notebook will focus on the stress tensor and force acting on the sphere.\n",
        "The stress tensor will be determined [using Chapman-Enskog expansions](https://arxiv.org/pdf/0812.3242.pdf), force will be determined using the Momentum Exchange Method to calculate the drag coefficient. In the end, only the drag coefficient will be presented, since it is non-dimensional.\n",
        "\n",
        "The code is adjusted from the the code presented by Machine Learning & Simulation (MLS) in 2D:\n",
        "- On [Youtube](https://www.youtube.com/watch?v=ZUXmO4hu-20&list=LL&index=1&ab_channel=MachineLearning%26Simulation) and [Github](https://github.com/Ceyron/machine-learning-and-simulation/blob/main/english/simulation_scripts/lattice_boltzmann_method_python_jax.py)\n",
        "\n",
        "And expanded to 3D:\n",
        "- In [Google Colab](https://colab.research.google.com/drive/1F3EH9_2N3lkEpgQXOScR3lcQ6oqCARPk?usp=sharing) and on [Github](https://github.com/Ceyron/machine-learning-and-simulation/blob/main/english/simulation_scripts/D3Q19_lattice_bolzmann_method_python_jax.py)\n",
        "\n",
        "It is recommended to watch that video first and go through the notebook in 3D, because a lot of explanation of this method, the setup and syntax mentioned in that video and code will be skipped here."
      ],
      "metadata": {
        "id": "nmppADvjDN_v"
      }
    },
    {
      "cell_type": "code",
      "source": [
        "# Install relevant packages supported by colab by default\n",
        "!pip install cmasher\n",
        "\n",
        "# Import packages\n",
        "import jax\n",
        "import jax.numpy as jnp\n",
        "import matplotlib.pyplot as plt\n",
        "import cmasher as cmr\n",
        "from matplotlib import cm\n",
        "from tqdm import tqdm\n",
        "\n",
        "# Enable 64bit\n",
        "jax.config.update(\"jax_enable_x64\", True)"
      ],
      "metadata": {
        "id": "mp4VWE6gOEHT"
      },
      "execution_count": null,
      "outputs": []
    },
    {
      "cell_type": "markdown",
      "source": [
        "# Setup of the domain\n",
        "First we will setup the general parameters of the domain. Not the notation **_L** next to some of the parameters. It is to stress the use of lattice units. We will simulate a sphere in a laminar flow. This can look a little boring withouth the Karman Vortex shedding that occurs with cylinders in this regime, but determining the drag on a 3D object like this is at least to me just as exiting!\n",
        "\n",
        "We are using the BGK-method so the code will be simpler and easier to follow along with previous examples. A lot of the code will look familiar.\n"
      ],
      "metadata": {
        "id": "Hze7xwdUEH8I"
      }
    },
    {
      "cell_type": "code",
      "source": [
        "# Dimensions of domain in number of grid cells\n",
        "ny = 50\n",
        "nz = 50\n",
        "nx = 300\n",
        "radius_L = 5\n",
        "\n",
        "# Setup the flow regime\n",
        "KINEMATIC_VISCOSITY_L        = 0.002\n",
        "HORIZONTAL_INFLOW_VELOCITY_L = 0.02\n",
        "\n",
        "# Setup simulation iterations and frequency of plots\n",
        "NUMBER_OF_ITERATIONS = 5000\n",
        "PLOT_EVERY_N_STEP = 250\n",
        "SKIP_FIRST_N = 250\n",
        "\n",
        "# Determin relevant coefficients and the relaxation time (or inversely, relaxation omega)\n",
        "reynolds_number_L = (HORIZONTAL_INFLOW_VELOCITY_L * 2 * radius_L) / KINEMATIC_VISCOSITY_L\n",
        "speed_of_sound_L = 1/jnp.sqrt(3)\n",
        "mach_number_L = HORIZONTAL_INFLOW_VELOCITY_L / speed_of_sound_L**2\n",
        "RELAXATION_OMEGA = (1.0 / (KINEMATIC_VISCOSITY_L/(speed_of_sound_L**2) + 0.5))\n",
        "\n",
        "print(f'Reynolds number:  {reynolds_number_L: g}')\n",
        "print(f'Mach number:      {mach_number_L: g}')\n",
        "print(f'Relaxation time:  {1.0 /RELAXATION_OMEGA: g}')\n",
        "\n",
        "# Define a mesh\n",
        "x = jnp.arange(nx)\n",
        "y = jnp.arange(ny)\n",
        "z = jnp.arange(nz)\n",
        "X, Y, Z = jnp.meshgrid(x, y, z, indexing=\"ij\")\n",
        "\n",
        "# Construct the sphere\n",
        "sphere = jnp.sqrt((X - x[nx//5])**2 + (Y - y[ny//2])**2 + (Z - z[nz//2])**2)\n",
        "OBSTACLE_MASK = sphere < radius_L\n",
        "\n",
        "plt.imshow(OBSTACLE_MASK[:, :, nz//2].T)\n",
        "plt.show()\n",
        "plt.imshow(OBSTACLE_MASK[nx//5, :, :].T)\n",
        "plt.show()\n",
        "plt.imshow(OBSTACLE_MASK[:, ny//2, :].T)\n",
        "plt.show()"
      ],
      "metadata": {
        "id": "gEB0C3JDEwgT"
      },
      "execution_count": null,
      "outputs": []
    },
    {
      "cell_type": "code",
      "source": [
        "# Setup the discrete velocities\n",
        "N_DISCRETE_VELOCITIES = 19\n",
        "\n",
        "LATTICE_INDICES =     jnp.array([0, 1, 2, 3, 4, 5, 6, 7, 8, 9,10,11,12,13,14,15,16,17,18])\n",
        "LATICE_VELOCITIES_X = jnp.array([0, 1,-1, 0, 0, 0, 0, 1,-1, 1,-1, 1,-1, 1,-1, 0, 0, 0, 0])\n",
        "LATICE_VELOCITIES_Y = jnp.array([0, 0, 0, 1,-1, 0, 0, 1, 1,-1,-1, 0, 0, 0, 0, 1,-1, 1,-1])\n",
        "LATICE_VELOCITIES_Z = jnp.array([0, 0, 0, 0, 0, 1,-1, 0, 0, 0, 0, 1, 1,-1,-1, 1, 1,-1,-1])\n",
        "\n",
        "LATTICE_VELOCITIES = jnp.array([LATICE_VELOCITIES_X,\n",
        "                                LATICE_VELOCITIES_Y,\n",
        "                                LATICE_VELOCITIES_Z])\n",
        "\n",
        "LATTICE_WEIGHTS = jnp.array([# rest particle\n",
        "                             1/3,\n",
        "\n",
        "                             # face-connected neighbors\n",
        "                             1/18, 1/18, 1/18, 1/18, 1/18, 1/18,\n",
        "\n",
        "                             # edge-connected neighbors\n",
        "                             1/36, 1/36, 1/36, 1/36, 1/36, 1/36, 1/36, 1/36, 1/36, 1/36, 1/36, 1/36])\n",
        "\n",
        "OPPOSITE_LATTICE_INDICES = jnp.array(\n",
        "    [jnp.where(\n",
        "        (LATTICE_VELOCITIES.T == -LATTICE_VELOCITIES[:, i])\n",
        "        .all(axis = 1))[0]\n",
        "     for i in range(N_DISCRETE_VELOCITIES)]).T[0]\n",
        "\n",
        "RIGHT_VELOCITIES = jnp.where(LATICE_VELOCITIES_X == 1)[0]   # [ 1,  7,  9, 11, 13]\n",
        "LEFT_VELOCITIES =  jnp.where(LATICE_VELOCITIES_X ==-1)[0]   # [ 2,  8, 10, 12, 14]\n",
        "YZ_VELOCITIES =    jnp.where(LATICE_VELOCITIES_X == 0)[0]   # [ 0,  3,  4,  5,  6, 15, 16, 17, 18]"
      ],
      "metadata": {
        "id": "qlLpA6etkkgo"
      },
      "execution_count": null,
      "outputs": []
    },
    {
      "cell_type": "markdown",
      "source": [
        "So far, everything should be looking familiar. We have setup the discrete velocities and determined which velocities are important for our boundary condition, streaming and collision steps. Now to dive into the method we are going to use to determine the stress, force and drag coefficient.\n",
        "\n",
        "## Stress tensor\n",
        "\n",
        "The stress tensor is the complete representation of the stresses on a point inside the fluid. The representation is most easily visualized on a grid cell:\n",
        "\n",
        "![image](https://upload.wikimedia.org/wikipedia/commons/thumb/b/b3/Components_stress_tensor_cartesian.svg/370px-Components_stress_tensor_cartesian.svg.png)\n",
        "\n",
        "Where on each grid face the three arrows represents the forces along that grid face along the different axes. For each point in our grid the stress tensor $\\sigma$ is:\n",
        "\n",
        "\\begin{equation*}\n",
        "\\sigma =\n",
        "\\begin{bmatrix}\n",
        "\\sigma_{xx} & \\sigma_{xy} & \\sigma_{xz} \\\\\n",
        "\\sigma_{yx} & \\sigma_{yy} & \\sigma_{yz} \\\\\n",
        "\\sigma_{zx} & \\sigma_{zy} & \\sigma_{zz}\n",
        "\\end{bmatrix}\n",
        "\\end{equation*}\n",
        "\n",
        "$\\sigma$ will therefor have a shape (nx, ny, nz, 3, 3) in 3D. On the row of the tensor are the faces of the above grid cell and on the columns the vector of the stress acting on that face. The unit of each value in the tensor is $\\frac{N}{m^2}$ or $\\frac{kg}{ms^2}$.\n",
        "\n",
        "The stress tensor is closely related to the strain rate tensor $S$ (by $2 \\nu S = \\sigma$, where $\\nu$ is the kinematic viscosity). $S$ is defined by the macroscopic velocities: $S=\\frac{1}{2}\\left[\\frac{\\delta u_\\alpha}{\\delta \\beta} + \\frac{\\delta u_\\beta}{\\delta \\alpha} \\right]$ and can be solved using a finite differences scheme:"
      ],
      "metadata": {
        "id": "NlAOd5MMGmej"
      }
    },
    {
      "cell_type": "code",
      "source": [
        "def get_strain_rate_tensor_FD(macroscopic_velocities):\n",
        "  _gradients = jnp.gradient(\n",
        "      macroscopic_velocities,\n",
        "      axis = (0, 1, 2))\n",
        "  gradients = jnp.einsum('d...D-> ...dD',\n",
        "                         jnp.array(_gradients))\n",
        "  return - (gradients +\n",
        "            jnp.einsum('...ij -> ...ji',\n",
        "                       gradients)\n",
        "            )/2"
      ],
      "metadata": {
        "id": "4feWCKVjih07"
      },
      "execution_count": null,
      "outputs": []
    },
    {
      "cell_type": "markdown",
      "source": [
        " The advantage of using LBM for determining the stress tensor, is that it can be determined locally (i.e. no need to look at the neighbouring nodes) by ([source](https://arxiv.org/pdf/0812.3242.pdf)):\n",
        "\n",
        "$σ_{\\alpha \\beta} = (1-\\frac{1}{2\\tau}) *  \\displaystyle\\sum_{i}c_{i \\alpha}c_{i \\beta} f^{neq}_{i}$\n",
        "\n",
        "where $f^{neq}$ is the non-equilibrium discrete velocities defined by:\n",
        "$f^{neq} = f - f^{eq}$, the deviation of the pre-colission discrete velocities from their equilibrium values. $c_{i \\alpha}$ are the lattice velocities over the axis of the rows of the stress tensor and $c_{i \\beta}$the lattice velocities over the axis of the column of the stress tensor.\n",
        "\n",
        "Below, the formula has been reduced to the necessary functions, and one converting the stress tensor into the rate of strain tensor to compare it with the finite differences solution."
      ],
      "metadata": {
        "id": "siKkSbYx-s-Q"
      }
    },
    {
      "cell_type": "code",
      "source": [
        "alpha, beta = jnp.meshgrid(jnp.arange(3), jnp.arange(3))\n",
        "CACB = (LATTICE_VELOCITIES[alpha, :] *\n",
        "        LATTICE_VELOCITIES[beta,  :])\n",
        "\n",
        "def get_stress_tensor(discrete_velocities, macroscopic_velocities, density):\n",
        "  equilibrium_discrete_velocities = get_equilibrium_discrete_velocities(\n",
        "                                      macroscopic_velocities,\n",
        "                                      density)\n",
        "  non_equilibrium_discrete_velocities = (discrete_velocities -\n",
        "                                         equilibrium_discrete_velocities)\n",
        "\n",
        "  stress_tensor = ((1 - RELAXATION_OMEGA / 2) *\n",
        "                   jnp.sum(CACB[jnp.newaxis, jnp.newaxis, jnp.newaxis, ...] *\n",
        "                           non_equilibrium_discrete_velocities[:, :, :, jnp.newaxis, jnp.newaxis, :],\n",
        "                           axis = -1))\n",
        "  return stress_tensor\n",
        "\n",
        "def get_strain_rate_tensor_LB(discrete_velocities, macroscopic_velocities, density):\n",
        "  stress_tensor = get_stress_tensor(discrete_velocities, macroscopic_velocities, density)\n",
        "  strain_rate_tensor = (stress_tensor /\n",
        "                        (2 *\n",
        "                         density[..., jnp.newaxis, jnp.newaxis] *\n",
        "                         KINEMATIC_VISCOSITY_L)\n",
        "                        )\n",
        "  return strain_rate_tensor"
      ],
      "metadata": {
        "id": "EzIDuqkq-rNW"
      },
      "execution_count": null,
      "outputs": []
    },
    {
      "cell_type": "markdown",
      "source": [
        "## Force\n",
        "\n",
        "Here we determine the forces acting on the object using the momentum exchange method. Momentum is the mass of an object times its velocity. Force and momentum are related by a change in time, as in: force is momentum over time. The momentum in Lattice Boltzmann space is $f_i c_i$, which are the lattice velocities of each lattice index multiplied by their discrete counterpart. When we see the populations $f_i$ of our lattices as particles, we can determine the momentum of those particles hitting the object and transfering their momentum. To determine this exchange of momentum, we need to determine which populations would cross the object boundary (both from the fluid into the object and the other way around).\n"
      ],
      "metadata": {
        "id": "z_DPCcpmdrdj"
      }
    },
    {
      "cell_type": "markdown",
      "source": [
        "The method here moves the mask of the fluid with the lattice volicities and checks of the fluid encounters the object (and vice versa)."
      ],
      "metadata": {
        "id": "vKrHo_UllIrU"
      }
    },
    {
      "cell_type": "code",
      "source": [
        "MOMENTUM_EXCHANGE_MASK_IN  = jnp.zeros((nx, ny, nz, 19)) > 0\n",
        "MOMENTUM_EXCHANGE_MASK_OUT = jnp.zeros((nx, ny, nz, 19)) > 0\n",
        "\n",
        "for i, (x, y, z) in enumerate(LATTICE_VELOCITIES.T):\n",
        "  # Determine the momentum going into the object:\n",
        "  location_in = jnp.logical_and(\n",
        "              jnp.roll(\n",
        "                  jnp.logical_not(OBSTACLE_MASK),\n",
        "                  (x, y, z),\n",
        "                  axis = (0, 1, 2)),\n",
        "              OBSTACLE_MASK)\n",
        "\n",
        "  MOMENTUM_EXCHANGE_MASK_IN = MOMENTUM_EXCHANGE_MASK_IN.at[location_in, i].set(True)\n",
        "\n",
        "  # Determine the momentum going out of the object:\n",
        "  location_out = jnp.logical_and(\n",
        "              jnp.roll(\n",
        "                  OBSTACLE_MASK,\n",
        "                  (-x, -y, -z),\n",
        "                  axis = (0, 1, 2)),\n",
        "              jnp.logical_not(OBSTACLE_MASK))\n",
        "\n",
        "  MOMENTUM_EXCHANGE_MASK_OUT = MOMENTUM_EXCHANGE_MASK_OUT.at[location_out, OPPOSITE_LATTICE_INDICES[i]].set(True)"
      ],
      "metadata": {
        "id": "ktNeYvTvEdFG"
      },
      "execution_count": null,
      "outputs": []
    },
    {
      "cell_type": "markdown",
      "source": [
        "Now that we know which populations of particles are going to move across the object boudary, we can assess the total momentum exchange ($\\Delta P$ by summing the momentum of the populations crossing the boundary:\n",
        "\n",
        "$\\Delta P_L =  \\displaystyle\\sum_i(f_i c_i - f_{\\hat{i}} c_{\\hat{i}})$\n",
        "\n",
        "Where $i$ indicates the poplution moving into the object and $\\hat{i}$ the population out of the object. Since $c_{\\hat{i}} = -c_i$ above formula can be rewritten as:\n",
        "\n",
        "$\\Delta P_L =  \\displaystyle\\sum_i c_i(f_i + f_{\\hat{i}})$\n",
        "\n",
        "Momentum and force are related by $F_L = \\Delta P_L/\\Delta t_L$. Since lattice time is 1 per step we can directly get the force:"
      ],
      "metadata": {
        "id": "S9cpvROPoc-b"
      }
    },
    {
      "cell_type": "code",
      "source": [
        "@jax.jit\n",
        "def get_force(discrete_velocities):\n",
        "  return jnp.sum(\n",
        "                 (LATTICE_VELOCITIES.T[jnp.newaxis, jnp.newaxis, jnp.newaxis, ...] *\n",
        "                  discrete_velocities[..., jnp.newaxis])[MOMENTUM_EXCHANGE_MASK_IN] +\n",
        "                 (LATTICE_VELOCITIES.T[OPPOSITE_LATTICE_INDICES][jnp.newaxis, jnp.newaxis, jnp.newaxis, ...] *\n",
        "                  discrete_velocities[..., jnp.newaxis])[MOMENTUM_EXCHANGE_MASK_OUT],\n",
        "                 axis = 0\n",
        "                 )"
      ],
      "metadata": {
        "id": "jLtH0MUJojMt"
      },
      "execution_count": null,
      "outputs": []
    },
    {
      "cell_type": "markdown",
      "source": [
        "The below functions are applied to the 3D simulation of the BGK-LBM as discussed in the previous notebook:"
      ],
      "metadata": {
        "id": "May47VKYsdBZ"
      }
    },
    {
      "cell_type": "code",
      "source": [
        "def get_density(discrete_velocities):\n",
        "    density = jnp.sum(discrete_velocities, axis=-1)\n",
        "    return density\n",
        "\n",
        "def get_macroscopic_velocities(discrete_velocities, density):\n",
        "    return jnp.einsum(\"...Q,dQ->...d\", discrete_velocities, LATTICE_VELOCITIES) / density[..., jnp.newaxis]\n",
        "\n",
        "def get_equilibrium_discrete_velocities(macroscopic_velocities, density):\n",
        "    projected_discrete_velocities = jnp.einsum(\"dQ,...d->...Q\", LATTICE_VELOCITIES, macroscopic_velocities)\n",
        "    macroscopic_velocity_magnitude = jnp.linalg.norm(macroscopic_velocities, axis=-1, ord=2)\n",
        "    equilibrium_discrete_velocities = (density[..., jnp.newaxis] * LATTICE_WEIGHTS[jnp.newaxis, jnp.newaxis, jnp.newaxis, :] *\n",
        "        (1 + 3 * projected_discrete_velocities + 9/2 * projected_discrete_velocities**2 -\n",
        "        3/2 * macroscopic_velocity_magnitude[..., jnp.newaxis]**2))\n",
        "    return equilibrium_discrete_velocities\n",
        "\n",
        "VELOCITY_PROFILE = jnp.zeros((nx, ny, nz, 3))\n",
        "VELOCITY_PROFILE = VELOCITY_PROFILE.at[:, :, :, 0].set(HORIZONTAL_INFLOW_VELOCITY_L)\n",
        "discrete_velocities_prev = get_equilibrium_discrete_velocities(VELOCITY_PROFILE,\n",
        "                                                               jnp.ones((nx, ny, nz)))"
      ],
      "metadata": {
        "id": "g_rtt8_5AHSL"
      },
      "execution_count": null,
      "outputs": []
    },
    {
      "cell_type": "code",
      "source": [
        "@jax.jit\n",
        "def update(discrete_velocities_prev):\n",
        "    # (1) Prescribe the outflow BC on the right boundary. Flow can go out, but not back in.\n",
        "    discrete_velocities_prev = discrete_velocities_prev.at[-1, ..., LEFT_VELOCITIES].set(discrete_velocities_prev[-2, ..., LEFT_VELOCITIES])\n",
        "\n",
        "    # (2) Determine macroscopic velocities\n",
        "    density_prev = get_density(discrete_velocities_prev)\n",
        "    macroscopic_velocities_prev = get_macroscopic_velocities(\n",
        "        discrete_velocities_prev,\n",
        "        density_prev)\n",
        "\n",
        "    # (3) Prescribe Inflow Dirichlet BC using Zou/He scheme in 3D:\n",
        "    macroscopic_velocities_prev = macroscopic_velocities_prev.at[0, ..., :].set(VELOCITY_PROFILE[0, ..., :])\n",
        "    lateral_densities = get_density(jnp.einsum('i...->...i', discrete_velocities_prev[0, ..., YZ_VELOCITIES]))\n",
        "    left_densities = get_density(jnp.einsum('i...->...i', discrete_velocities_prev[0, ..., LEFT_VELOCITIES]))\n",
        "    density_prev = density_prev.at[0, ...].set((lateral_densities + 2 * left_densities) /\n",
        "                                                (1 - macroscopic_velocities_prev[0, ..., 0]))\n",
        "\n",
        "    # (4) Compute discrete Equilibria velocities\n",
        "    equilibrium_discrete_velocities = get_equilibrium_discrete_velocities(\n",
        "       macroscopic_velocities_prev,\n",
        "       density_prev)\n",
        "\n",
        "    # (3) Belongs to the Zou/He scheme\n",
        "    discrete_velocities_prev =\\\n",
        "          discrete_velocities_prev.at[0, ..., RIGHT_VELOCITIES].set(\n",
        "              equilibrium_discrete_velocities[0, ..., RIGHT_VELOCITIES])\n",
        "\n",
        "    # (5) Collide according to BGK\n",
        "    discrete_velocities_post_collision = (discrete_velocities_prev - RELAXATION_OMEGA *\n",
        "          (discrete_velocities_prev - equilibrium_discrete_velocities))\n",
        "\n",
        "    # (6) Bounce-Back Boundary Conditions to enfore the no-slip\n",
        "    for i in range(N_DISCRETE_VELOCITIES):\n",
        "        discrete_velocities_post_collision = discrete_velocities_post_collision.at[OBSTACLE_MASK, LATTICE_INDICES[i]].set(\n",
        "                                                      discrete_velocities_prev[OBSTACLE_MASK, OPPOSITE_LATTICE_INDICES[i]])\n",
        "\n",
        "    # (7) Stream alongside lattice velocities\n",
        "    discrete_velocities_streamed = discrete_velocities_post_collision\n",
        "    for i in range(N_DISCRETE_VELOCITIES):\n",
        "        discrete_velocities_streamed = discrete_velocities_streamed.at[..., i].set(\n",
        "            jnp.roll(discrete_velocities_post_collision[..., i],\n",
        "            LATTICE_VELOCITIES[:, i], axis = (0, 1, 2)))\n",
        "\n",
        "    return discrete_velocities_streamed\n"
      ],
      "metadata": {
        "id": "OanMpMvrolwU"
      },
      "execution_count": null,
      "outputs": []
    },
    {
      "cell_type": "markdown",
      "source": [
        "## Applying the code\n",
        "When exucting the code, the velocity magnitude for each PLOT_EVERY_N is displayed, together with a comparison of the finite differences solution for the strain rate tensor and the LB strain rate tensor. In addition the drag coefficient over time is shown, from the time after SKIP_FIRS_N to get the initial clutter out of the way.\n",
        "\n",
        "The stress tensor is difficult to display, because of its 9 entries per cell. Below the shear stress $\\sigma_{xy}$ (over axis 0 and 1) is shown, showing the stress applied on the x-plain over its y-axis. Red indicates a positive shear stress over the y-axis (shearing upward) and blue a negative shear stress. The stress tensor is not needed in running the LBM, but it gives a nice view of the stress in the model and since the final result can be chaotic, earlier representations can more clearly show what is going on stress-wise."
      ],
      "metadata": {
        "id": "zzAxn5EhGSNL"
      }
    },
    {
      "cell_type": "code",
      "source": [
        "def run(discrete_velocities_prev, axis1 = 0, axis2 = 0):\n",
        "    C_d = []\n",
        "    for i in tqdm(range(NUMBER_OF_ITERATIONS)):\n",
        "        discrete_velocities_next = update(discrete_velocities_prev)\n",
        "        discrete_velocities_prev = discrete_velocities_next\n",
        "\n",
        "        horizontal_force = get_force(discrete_velocities_next)[0]\n",
        "        drag_coefficient = drag_coefficient = 2*abs(horizontal_force)/(1 * (jnp.pi * radius_L**2) * (HORIZONTAL_INFLOW_VELOCITY_L**2))\n",
        "        C_d.append(drag_coefficient)\n",
        "\n",
        "        if i % PLOT_EVERY_N_STEP == 0 and i > SKIP_FIRST_N - PLOT_EVERY_N_STEP:\n",
        "            density = get_density(discrete_velocities_next)\n",
        "            macroscopic_velocities = get_macroscopic_velocities(\n",
        "                discrete_velocities_next,\n",
        "                density)\n",
        "            velocity_magnitude = jnp.linalg.norm(\n",
        "                macroscopic_velocities,\n",
        "                axis=-1,\n",
        "                ord=2)\n",
        "\n",
        "            strain_rate_tensor_FD = get_strain_rate_tensor_FD(macroscopic_velocities)\n",
        "            strain_rate_FD = strain_rate_tensor_FD[..., axis1, axis2]\n",
        "\n",
        "            strain_rate_tensor_LB = get_strain_rate_tensor_LB(discrete_velocities_next, macroscopic_velocities, density)\n",
        "            strain_rate_LB = strain_rate_tensor_LB[..., axis1, axis2]\n",
        "\n",
        "            fig, axs = plt.subplots(4, 1, figsize = (15, 12))\n",
        "            axs[0].contourf(X[:, :, nz//2], Y[:, :,  nz//2],\n",
        "                            velocity_magnitude[:, :,  nz//2],\n",
        "                            alpha=0.8,\n",
        "                            cmap=cmr.amber)\n",
        "            axs[0].set_aspect('equal', adjustable='box')\n",
        "            axs[0].axis('off')\n",
        "\n",
        "            axs[1].contourf(X[:, :, nz//2], Y[:, :,  nz//2],\n",
        "                            strain_rate_FD[..., nz//2],\n",
        "                            levels = 50,\n",
        "                            alpha = 0.8,\n",
        "                            cmap = cm.seismic)\n",
        "            axs[1].set_aspect('equal', adjustable='box')\n",
        "            axs[1].axis('off')\n",
        "\n",
        "            axs[2].contourf(X[:, :, nz//2], Y[:, :,  nz//2],\n",
        "                            strain_rate_LB[..., nz//2],\n",
        "                            levels = 50,\n",
        "                            alpha = 0.8,\n",
        "                            cmap = cm.seismic)\n",
        "\n",
        "            axs[2].set_aspect('equal', adjustable='box')\n",
        "            axs[2].axis('off')\n",
        "\n",
        "            axs[3].plot(C_d[SKIP_FIRST_N:], 'k')\n",
        "            axs[3].grid()\n",
        "            axs[3].set_xlabel('Number of iterations')\n",
        "            axs[3].set_ylabel('Drag coefficient')\n",
        "            fig.tight_layout()\n",
        "            plt.show()\n",
        "    return discrete_velocities_next\n",
        "discrete_velocities = run(discrete_velocities_prev,\n",
        "                          axis1 = 0,\n",
        "                          axis2 = 1)"
      ],
      "metadata": {
        "id": "uQEDU8m1yeRX"
      },
      "execution_count": null,
      "outputs": []
    },
    {
      "cell_type": "markdown",
      "source": [
        "## The results\n",
        "The figures displayed in the results show velocity magnitude, finite difference solution for the stress tensor, the LB solution for the stress tensor and the drag coefficient over time.\n",
        "\n",
        "When comparing the stress tensor as determined by FD and LB methods, the results seem quite similar, showing the same high and low areas. The FD solution seems to smooth the stress out more, however.\n",
        "\n",
        "The drag coefficient starts of quite squigly. This periosicity will still remain, even at long simulations and a moving average sould be taken. At the start the drag coefficient varies between 0.0 and 2.5, but over time converges to a more steady appr. 1.25. This agrees only moderately well with the drag coefficient at $Re = 100$ on this chart:\n",
        "\n",
        "![](https://upload.wikimedia.org/wikipedia/commons/thumb/4/4c/Drag_coefficient_of_a_sphere_as_a_function_of_Reynolds_number.png/800px-Drag_coefficient_of_a_sphere_as_a_function_of_Reynolds_number.png?20140624164653)\n",
        "\n",
        "A slight deviation can be expected because we are not modeling a smooth sphere. In this application of the LBM, curved boundaries are step-wise!\n",
        "\n",
        "With a higher resolution grid the simulation may take longer, but the drag coefficient will resemble that of a smooth sphere better. Try a sphere size of 8, and have the nx, ny and nz scale up correspondingly. It takes a lot longer, and with more the notebook will run out of memory, but the solution gets almost spot on!"
      ],
      "metadata": {
        "id": "dDiuat4nmH0G"
      }
    },
    {
      "cell_type": "code",
      "source": [],
      "metadata": {
        "id": "unC8cIL_rjXZ"
      },
      "execution_count": null,
      "outputs": []
    }
  ]
}