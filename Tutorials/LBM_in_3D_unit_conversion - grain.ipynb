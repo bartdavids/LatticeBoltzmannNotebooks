{
 "cells": [
  {
   "cell_type": "markdown",
   "metadata": {
    "id": "nmppADvjDN_v"
   },
   "source": [
    "# The Lattice Boltzmann Method - unit conversion\n",
    "\n",
    "This notebook uses the Lattice Boltzmann (LBM) Method for numerical simulation of\n",
    "fluid flow to calculate the flow around a sphere. Written in python and jax. This\n",
    "code will focus on converting relevant variables from physical to lattice units\n",
    "and back.\n",
    "\n",
    "The code is adjusted from the code presented by Machine Learning & Simulation (MLS) in 2D:\n",
    "- On [Youtube](https://www.youtube.com/watch?v=ZUXmO4hu-20&list=LL&index=1&ab_channel=MachineLearning%26Simulation) and [Github](https://github.com/Ceyron/machine-learning-and-simulation/blob/main/english/simulation_scripts/lattice_boltzmann_method_python_jax.py)\n",
    "\n",
    "Other notebookes on LBM:\n",
    "- Expanded to 3D: [Google Colab](https://colab.research.google.com/drive/1F3EH9_2N3lkEpgQXOScR3lcQ6oqCARPk?usp=sharing) and [Github](https://github.com/Ceyron/machine-learning-and-simulation/blob/main/english/simulation_scripts/D3Q19_lattice_bolzmann_method_python_jax.py)\n",
    "- on stress and force: [Google Colab](https://colab.research.google.com/drive/1oryCdOPXapOWxGSgCDNkvSUQ_MahfoRX?usp=sharing) and [Github](https://github.com/Ceyron/machine-learning-and-simulation/blob/main/english/simulation_scripts/D3Q19_lattice_boltzmann_method_stress_force_drag.py)\n",
    "    \n",
    "It is recommended to watch that video first and go through the notebook in 3D,\n",
    "because a lot of explanation of this method, the setup and syntax mentioned in\n",
    "that video and code will be skipped here. The force as determined in the relevant notebook/code will be used in the end of this code to convert force from lattice units to physical units."
   ]
  },
  {
   "cell_type": "code",
   "execution_count": null,
   "metadata": {
    "id": "mp4VWE6gOEHT"
   },
   "outputs": [],
   "source": [
    "import noise\n",
    "import numpy as np\n",
    "\n",
    "import jax\n",
    "import jax.numpy as jnp\n",
    "from tqdm import tqdm\n",
    "from matplotlib import cm\n",
    "import matplotlib.pyplot as plt\n",
    "from mpl_toolkits.axes_grid1 import make_axes_locatable\n",
    "\n",
    "# Enable 64bit\n",
    "jax.config.update(\"jax_enable_x64\", False)"
   ]
  },
  {
   "cell_type": "markdown",
   "metadata": {
    "id": "Hze7xwdUEH8I"
   },
   "source": [
    "# Setup of the domain\n",
    "The fluid flow simulation we are preparing is a sphere in fluid flow. The modelled domain is going to be 300 cells along the x-axis and 50 along the y- and z-axis. The fluid is going to flow into the domain from the left, where x = 0.\n",
    "\n"
   ]
  },
  {
   "cell_type": "code",
   "execution_count": null,
   "metadata": {
    "id": "gEB0C3JDEwgT"
   },
   "outputs": [],
   "source": [
    "# Dimensions of domain in number of grid cells\n",
    "nx = 266\n",
    "ny = 256\n",
    "nz = 32"
   ]
  },
  {
   "cell_type": "code",
   "execution_count": null,
   "metadata": {
    "id": "E0Ke2ZxEKCIe"
   },
   "outputs": [],
   "source": [
    "# Parameters\n",
    "noise_scale = 0.05\n",
    "seed = 0\n",
    "\n",
    "# Set random seed for consistent results\n",
    "np.random.seed(seed)\n",
    "\n",
    "# Generate initial grain shape\n",
    "grain = np.zeros((nx, ny, nz))\n",
    "\n",
    "# Add Perlin noise to grain shape\n",
    "for i in range(nx):\n",
    "    for j in range(ny):\n",
    "        for k in range(nz):\n",
    "            x = i * noise_scale\n",
    "            y = j * noise_scale\n",
    "            z = k * noise_scale\n",
    "            grain[i, j, k] = noise.pnoise3(x, y, z, octaves=4, persistence=0.5, lacunarity=2.0, repeatx=nx, repeaty=ny, repeatz=nz)\n",
    "\n",
    "# Normalize the grain shape\n",
    "grain = (grain - np.min(grain)) / (np.max(grain) - np.min(grain))\n",
    "OBSTACLE_MASK = grain > 0.5\n",
    "OBSTACLE_MASK[:10, ...] = False\n",
    "# Plot the 3D grain shape\n",
    "plt.imshow(OBSTACLE_MASK[..., nz//2].T, cmap=\"Greys\")\n",
    "plt.show()"
   ]
  },
  {
   "cell_type": "markdown",
   "metadata": {
    "id": "4sN14zDDEyHB"
   },
   "source": [
    "## Unit conversion\n",
    "\n",
    "The units of the grid are all in lattice units, which are not directly convertable to physical units. When you want to express your simulation in the physical world, it would be nice to show your results in centimeters, seconds and kilograms! For instance, we want to calculate the maximum flow around a sphere with a radius of 1 m in a domain that has a physical size much smaller than 300x50x50 of your chosen unit.\n",
    "\n",
    "Below the distances for the domain in physical units are given. To distinguish variables in lattice and physical units, the denotation at the end of the variable will give a _L (or $_L$) for lattice and a _P (or $_P$) for physical units. The number of grid cells is the same in lattice and physical units of course and is omitted from this notation."
   ]
  },
  {
   "cell_type": "code",
   "execution_count": null,
   "metadata": {
    "id": "ZrMtXqgmXD5F"
   },
   "outputs": [],
   "source": [
    "# Dimensions of domain in physical units: cm\n",
    "xmin_P = ymin_P = zmin_P = 0\n",
    "ymax_P = xmax_P = 10\n",
    "zmax_P = xmax_P*nz/nx"
   ]
  },
  {
   "cell_type": "markdown",
   "metadata": {
    "id": "ZlFz08aSLJMm"
   },
   "source": [
    "To convert between lattice and physical units($L ↔ P$), one needs to define the distance between grid nodes in the physical space first.\n",
    "\n",
    "$\\Delta \\alpha = L_{\\alpha}^{P}/N_x$\n",
    "\n",
    "Where L is the length of the domain in physical units Denoted with $^P$, and $N$ the number of grid cells in the subscripted axis $\\alpha$. The length in lattice space is always 1!"
   ]
  },
  {
   "cell_type": "code",
   "execution_count": null,
   "metadata": {
    "id": "IaMl0J_vL3fp"
   },
   "outputs": [],
   "source": [
    "ΔX_P = (xmax_P - xmin_P)/(nx)\n",
    "ΔY_P = (ymax_P - ymin_P)/(ny)\n",
    "ΔZ_P = (zmax_P - zmin_P)/(nz)"
   ]
  },
  {
   "cell_type": "markdown",
   "metadata": {
    "id": "55sh3WyHL_Nw"
   },
   "source": [
    "Besides length, units for time and mass are necessary for converting between physical and lattice units.  So next up is $L ↔ P$ for time! Time and space depend on each other in the physical space and time is dependant on the physical and lattice speed of sound $C_P$ and $C_L$:\n",
    "\n",
    "$\\Delta t = \\frac{C_L}{C_P} \\Delta x$\n",
    "\n",
    "$C_L$ depents on the type of lattice you employ ([paper with good overview](https://terpconnect.umd.edu/~aydilek/papers/LB.pdf)) and $C_P$ will depend on the chosen fluid/gas. The $\\Delta t$ is the amount of physical time between timesteps."
   ]
  },
  {
   "cell_type": "code",
   "execution_count": null,
   "metadata": {
    "id": "cR3_QhIjRmKG"
   },
   "outputs": [],
   "source": [
    "speed_of_sound_P  = 150000                                     # cm/s\n",
    "speed_of_sound_L  = 1/(jnp.sqrt(3))\n",
    "ΔT_P              = speed_of_sound_L / speed_of_sound_P * ΔX_P # in s\n",
    "print(f'Δt = {ΔT_P :g} s')"
   ]
  },
  {
   "cell_type": "markdown",
   "metadata": {
    "id": "iKAie2nlZk05"
   },
   "source": [
    "For simulations with a very small $\\Delta x$, the $\\Delta t$ will also be very small. Possibly to the point of impractically small timesteps. This can be carefully negated by setting a $\\Delta t$ that is higher than set by above relationship. Carefully, because this raises the Mach number artificially. The Mach number ($Ma$):\n",
    "\n",
    "$Ma = \\frac{C_L}{C_P}$\n",
    "\n",
    "Is one of the major stability and criteria and below a certain point (often around 0.2) no longer models physically incompressible fluids."
   ]
  },
  {
   "cell_type": "code",
   "execution_count": null,
   "metadata": {
    "id": "CTlZus9FvS0q"
   },
   "outputs": [],
   "source": [
    "ΔT_P              = 1.6e-4\n",
    "print(f'Δt = {ΔT_P :g} s')"
   ]
  },
  {
   "cell_type": "markdown",
   "metadata": {
    "id": "997RYiC4KZDv"
   },
   "source": [
    "In the cell below is the velocity ($v$ in $ms^{-1}$) defined, and also the viscosity ($\\mu$ in $m^2s^{-1}$) defined. The values correspond to the sphere moving through honey, syrup or oil with no inconsiderable speed. The lattice units can be determined by dividing by the $\\Delta x$ and $\\Delta t$ corresponding by the variables units:\n",
    "\n",
    "$\\mu_L = \\frac{\\mu_P}{\\frac{Δx^2}{Δt}} = \\frac{\\mu_PΔt}{Δx^2}$,\n",
    "$\\mu_P = \\mu_L \\frac{Δx^2}{Δt}$\n",
    "\n",
    "$v_L = \\frac{v_P}{\\frac{Δx}{Δt}} = \\frac{v_PΔt}{Δx}$,\n",
    "$v_P = v_L \\frac{Δx}{Δt}$\n",
    "\n",
    "The dimensionless constant $Re$ does not change with conversion or the artificial raising of the Mach number, implying the flow regime will be the same with the raised Mach number."
   ]
  },
  {
   "cell_type": "code",
   "execution_count": null,
   "metadata": {
    "id": "huwzNY75Jn-Q"
   },
   "outputs": [],
   "source": [
    "# Physical parameters\n",
    "KINEMATIC_VISCOSITY_P        = 0.01         # in cm2/s\n",
    "HORIZONTAL_INFLOW_VELOCITY_P = .1            # in cm/s\n",
    "_theoretical_grain_size_P = 10*10/256         # in cm\n",
    "\n",
    "KINEMATIC_VISCOSITY_L        = KINEMATIC_VISCOSITY_P         / (ΔX_P**2 / ΔT_P)\n",
    "HORIZONTAL_INFLOW_VELOCITY_L = HORIZONTAL_INFLOW_VELOCITY_P  / (ΔX_P / ΔT_P)\n",
    "_theoretical_grain_size_L = _theoretical_grain_size_P * ΔX_P\n",
    "# Estimate Reynolds number\n",
    "reynolds_number_L = (HORIZONTAL_INFLOW_VELOCITY_L * 2 * _theoretical_grain_size_P) / KINEMATIC_VISCOSITY_L\n",
    "reynolds_number_P = (HORIZONTAL_INFLOW_VELOCITY_P * 2 * _theoretical_grain_size_L) / KINEMATIC_VISCOSITY_P\n",
    "\n",
    "mach_number_L = HORIZONTAL_INFLOW_VELOCITY_L / speed_of_sound_L\n",
    "RELAXATION_OMEGA = (1.0 / (KINEMATIC_VISCOSITY_L/(speed_of_sound_L**2) + 0.5))\n",
    "\n",
    "print(f'Lattice Reynolds number:  {reynolds_number_L: g}')\n",
    "print(f'Physical Reynolds number: {reynolds_number_P: g}')\n",
    "print(f'Mach number:              {mach_number_L: g}')\n",
    "print(f'Relaxation time:          {1.0 /RELAXATION_OMEGA: g}')"
   ]
  },
  {
   "cell_type": "markdown",
   "metadata": {
    "id": "M9MeYBEH2ipl"
   },
   "source": [
    "That seem like reasonable $Re$, $Ma$ and $\\tau$. If the Mach number get's too high, or the relaxation time ($\\tau$) too low (too close to 0.5), consider a smaller $\\Delta t_P$. The optimal variables differ for $Re$, object shape and boundary conditions and are often described as being found by trial and error. In [this](https://link.springer.com/book/10.1007/978-3-319-44649-3) book some more tips are given on getting the most out of your simulation.\n",
    "\n",
    "Below, the number of seconds too be simulated is set. With the given $\\Delta t_P$ the number of iterations is 18.750, which is ~2.5 times less than without artificially raising $Ma$. We assess the maximum velocity around the sphere at a steady state, which will develop after app. 2.5 seconds."
   ]
  },
  {
   "cell_type": "code",
   "execution_count": null,
   "metadata": {
    "id": "iaQkiT3ncfVv"
   },
   "outputs": [],
   "source": [
    "iterations_per_second = 1/ΔT_P\n",
    "SECONDS_OF_SIMULATION = 2\n",
    "NUMBER_OF_ITERATIONS = round(iterations_per_second * SECONDS_OF_SIMULATION)\n",
    "\n",
    "# Define a mesh\n",
    "x = jnp.arange(nx)\n",
    "y = jnp.arange(ny)\n",
    "z = jnp.arange(nz)\n",
    "X, Y, Z = jnp.meshgrid(x, y, z, indexing=\"ij\")\n",
    "print('Number of iterations:', NUMBER_OF_ITERATIONS)"
   ]
  },
  {
   "cell_type": "markdown",
   "metadata": {
    "id": "4Kn-5n7n4rVu"
   },
   "source": [
    "Up last is mass, which is the easiest. It is inpendent from $\\Delta x$ and $\\Delta t$ and for convenience best practice the lattice density should be set to 1. Any amount of the physical unit of mass can than be prescribed to be the conversion factor. In this example, we stick to the honey-like $\\mu$ and set the mass unit to 1400 / $\\Delta x_P^3$, based on its density of 1400 $kg m^{-3}$. All three relevant conversion factors have been assigned, and a convenient function can be made where the units can be described and converted accordingly, which take the exponent of the relevant units:"
   ]
  },
  {
   "cell_type": "code",
   "execution_count": null,
   "metadata": {
    "id": "uPln52Rg-Drw"
   },
   "outputs": [],
   "source": [
    "density_P = 0.0014 # kg/cm³\n",
    "ΔM_P = density_P * (ΔX_P ** 3)\n",
    "\n",
    "def convert_to_lattice_units(value, length = 0, time = 0, mass = 0):\n",
    "  return value * (ΔX_P ** -length) * (ΔT_P ** -time) * (ΔM_P ** -mass)\n",
    "\n",
    "def convert_to_physical_units(value, length = 0, time = 0, mass = 0):\n",
    "  return value * (ΔX_P ** length) * (ΔT_P ** time) * (ΔM_P ** mass)\n",
    "\n",
    "density_L = convert_to_lattice_units(density_P, length = -3, time = 0, mass = 1)\n",
    "print(f'Density: {density_P} in kg/m³ -> {density_L} in lattice units')"
   ]
  },
  {
   "cell_type": "markdown",
   "metadata": {
    "id": "TmfSmACfFgKz"
   },
   "source": [
    "## Inititalization and relevant functions\n",
    "\n",
    "The next few cells should look familiar, they are the implimentation for the LBM with BGK colission operator as seen in the previous notebook."
   ]
  },
  {
   "cell_type": "code",
   "execution_count": null,
   "metadata": {
    "id": "qlLpA6etkkgo"
   },
   "outputs": [],
   "source": [
    "N_DISCRETE_VELOCITIES = 19\n",
    "\n",
    "LATTICE_INDICES =     jnp.array([0, 1, 2, 3, 4, 5, 6, 7, 8, 9,10,11,12,13,14,15,16,17,18])\n",
    "LATICE_VELOCITIES_X = jnp.array([0, 1,-1, 0, 0, 0, 0, 1,-1, 1,-1, 1,-1, 1,-1, 0, 0, 0, 0])\n",
    "LATICE_VELOCITIES_Y = jnp.array([0, 0, 0, 1,-1, 0, 0, 1, 1,-1,-1, 0, 0, 0, 0, 1,-1, 1,-1])\n",
    "LATICE_VELOCITIES_Z = jnp.array([0, 0, 0, 0, 0, 1,-1, 0, 0, 0, 0, 1, 1,-1,-1, 1, 1,-1,-1])\n",
    "\n",
    "LATTICE_VELOCITIES = jnp.array([LATICE_VELOCITIES_X,\n",
    "                                LATICE_VELOCITIES_Y,\n",
    "                                LATICE_VELOCITIES_Z])\n",
    "\n",
    "LATTICE_WEIGHTS = jnp.array([# rest particle\n",
    "                             1/3,\n",
    "\n",
    "                             # face-connected neighbors\n",
    "                             1/18, 1/18, 1/18, 1/18, 1/18, 1/18,\n",
    "\n",
    "                             # edge-connected neighbors\n",
    "                             1/36, 1/36, 1/36, 1/36, 1/36, 1/36, 1/36, 1/36, 1/36, 1/36, 1/36, 1/36])\n",
    "\n",
    "OPPOSITE_LATTICE_INDICES = jnp.array([jnp.where((LATTICE_VELOCITIES.T == -LATTICE_VELOCITIES[:, i]).all(axis = 1))[0] for i in range(N_DISCRETE_VELOCITIES)]).T[0]\n",
    "\n",
    "RIGHT_VELOCITIES = jnp.where(LATICE_VELOCITIES_X == 1)[0]   # [ 1,  7,  9, 11, 13]\n",
    "LEFT_VELOCITIES =  jnp.where(LATICE_VELOCITIES_X ==-1)[0]   # [ 2,  8, 10, 12, 14]\n",
    "YZ_VELOCITIES =    jnp.where(LATICE_VELOCITIES_X == 0)[0]   # [ 0,  3,  4,  5,  6, 15, 16, 17, 18]"
   ]
  },
  {
   "cell_type": "code",
   "execution_count": null,
   "metadata": {
    "id": "mXHp68YuG_xh"
   },
   "outputs": [],
   "source": [
    "M = jnp.array([ [  1,  1,  1,  1,  1,  1,  1,  1,  1,  1,  1,  1,  1,  1,  1,  1,  1,  1,  1],\n",
    "                [-30,-11,-11,-11,-11,-11,-11,  8,  8,  8,  8,  8,  8,  8,  8,  8,  8,  8,  8],\n",
    "                [ 12, -4, -4, -4, -4, -4, -4,  1,  1,  1,  1,  1,  1,  1,  1,  1,  1,  1,  1],\n",
    "                [  0,  1, -1,  0,  0,  0,  0,  1, -1,  1, -1,  1, -1,  1, -1,  0,  0,  0,  0],\n",
    "                [  0, -4,  4,  0,  0,  0,  0,  1, -1,  1, -1,  1, -1,  1, -1,  0,  0,  0,  0],\n",
    "                [  0,  0,  0,  1, -1,  0,  0,  1,  1, -1, -1,  0,  0,  0,  0,  1, -1,  1, -1],\n",
    "                [  0,  0,  0, -4,  4,  0,  0,  1,  1, -1, -1,  0,  0,  0,  0,  1, -1,  1, -1],\n",
    "                [  0,  0,  0,  0,  0,  1, -1,  0,  0,  0,  0,  1,  1, -1, -1,  1,  1, -1, -1],\n",
    "                [  0,  0,  0,  0,  0, -4,  4,  0,  0,  0,  0,  1,  1, -1, -1,  1,  1, -1, -1],\n",
    "                [  0,  2,  2, -1, -1, -1, -1,  1,  1,  1,  1,  1,  1,  1,  1, -2, -2, -2, -2],\n",
    "                [  0, -4, -4,  2,  2,  2,  2,  1,  1,  1,  1,  1,  1,  1,  1, -2, -2, -2, -2],\n",
    "                [  0,  0,  0,  1,  1, -1, -1,  1,  1,  1,  1, -1, -1, -1, -1,  0,  0,  0,  0],\n",
    "                [  0,  0,  0, -2, -2,  2,  2,  1,  1,  1,  1, -1, -1, -1, -1,  0,  0,  0,  0],\n",
    "                [  0,  0,  0,  0,  0,  0,  0,  1, -1, -1,  1,  0,  0,  0,  0,  0,  0,  0,  0],\n",
    "                [  0,  0,  0,  0,  0,  0,  0,  0,  0,  0,  0,  0,  0,  0,  0,  1, -1, -1,  1],\n",
    "                [  0,  0,  0,  0,  0,  0,  0,  0,  0,  0,  0,  1, -1, -1,  1,  0,  0,  0,  0],\n",
    "                [  0,  0,  0,  0,  0,  0,  0,  1, -1,  1, -1, -1,  1, -1,  1,  0,  0,  0,  0],\n",
    "                [  0,  0,  0,  0,  0,  0,  0, -1, -1,  1,  1,  0,  0,  0,  0,  1, -1,  1, -1],\n",
    "                [  0,  0,  0,  0,  0,  0,  0,  0,  0,  0,  0,  1,  1, -1, -1, -1, -1,  1,  1]])\n",
    "M_inv = jnp.linalg.inv(M)\n",
    "\n",
    "s1 = 1.19\n",
    "s2 = s10 = 1.4\n",
    "s4 = 1.2\n",
    "s16 = 1.98\n",
    "s9 = s13 = RELAXATION_OMEGA\n",
    "\n",
    "S = jnp.eye(N_DISCRETE_VELOCITIES) * jnp.array([0, s1, s2, 0, s4, 0, s4, 0, s4, s9, s10, s9, s10, s13, s13, s13, s16, s16, s16])\n",
    "\n",
    "COLLISION_OPERATOR = M_inv @ S @ M"
   ]
  },
  {
   "cell_type": "code",
   "execution_count": null,
   "metadata": {
    "id": "g_rtt8_5AHSL"
   },
   "outputs": [],
   "source": [
    "@jax.jit\n",
    "def get_density(discrete_velocities):\n",
    "    density = jnp.sum(discrete_velocities, axis=-1)\n",
    "    return density\n",
    "\n",
    "@jax.jit\n",
    "def get_macroscopic_velocities(discrete_velocities, density):\n",
    "    return jnp.einsum(\"...Q,dQ->...d\", discrete_velocities, LATTICE_VELOCITIES) / density[..., jnp.newaxis]\n",
    "\n",
    "@jax.jit\n",
    "def get_equilibrium_discrete_velocities(macroscopic_velocities, density):\n",
    "    projected_discrete_velocities = jnp.einsum(\"dQ,...d->...Q\", LATTICE_VELOCITIES, macroscopic_velocities)\n",
    "    macroscopic_velocity_magnitude = jnp.linalg.norm(macroscopic_velocities, axis=-1, ord=2)\n",
    "    equilibrium_discrete_velocities = (density[..., jnp.newaxis] * LATTICE_WEIGHTS[jnp.newaxis, jnp.newaxis, jnp.newaxis, :] *\n",
    "        (1 + 3 * projected_discrete_velocities + 9/2 * projected_discrete_velocities**2 -\n",
    "        3/2 * macroscopic_velocity_magnitude[..., jnp.newaxis]**2))\n",
    "    return equilibrium_discrete_velocities\n",
    "\n",
    "VELOCITY_PROFILE = jnp.zeros((nx, ny, nz, 3))\n",
    "VELOCITY_PROFILE = VELOCITY_PROFILE.at[:, :, :, 0].set(HORIZONTAL_INFLOW_VELOCITY_L)\n",
    "discrete_velocities_prev = get_equilibrium_discrete_velocities(VELOCITY_PROFILE,\n",
    "                                                               jnp.ones((nx, ny, nz)))"
   ]
  },
  {
   "cell_type": "markdown",
   "metadata": {
    "id": "z66_yCzjs_BV"
   },
   "source": [
    "##Velocity in action"
   ]
  },
  {
   "cell_type": "code",
   "execution_count": null,
   "metadata": {
    "id": "OanMpMvrolwU"
   },
   "outputs": [],
   "source": [
    "@jax.jit\n",
    "def update(discrete_velocities_prev):\n",
    "    # (1) Prescribe the outflow BC on the right boundary. Flow can go out, but not back in.\n",
    "    discrete_velocities_prev = discrete_velocities_prev.at[-1, ..., LEFT_VELOCITIES].set(discrete_velocities_prev[-2, ..., LEFT_VELOCITIES])\n",
    "\n",
    "    # (2) Determine macroscopic velocities\n",
    "    density_prev = get_density(discrete_velocities_prev)\n",
    "    macroscopic_velocities_prev = get_macroscopic_velocities(\n",
    "        discrete_velocities_prev,\n",
    "        density_prev)\n",
    "\n",
    "    # (3) Prescribe Inflow Dirichlet BC using Zou/He scheme in 3D:\n",
    "    macroscopic_velocities_prev = macroscopic_velocities_prev.at[0, ..., :].set(VELOCITY_PROFILE[0, ..., :])\n",
    "    lateral_densities = get_density(jnp.einsum('i...->...i', discrete_velocities_prev[0, ..., YZ_VELOCITIES]))\n",
    "    left_densities = get_density(jnp.einsum('i...->...i', discrete_velocities_prev[0, ..., LEFT_VELOCITIES]))\n",
    "    density_prev = density_prev.at[0, ...].set((lateral_densities + 2 * left_densities) /\n",
    "                                                (1 - macroscopic_velocities_prev[0, ..., 0]))\n",
    "\n",
    "    # (4) Compute discrete Equilibria velocities\n",
    "    equilibrium_discrete_velocities = get_equilibrium_discrete_velocities(\n",
    "       macroscopic_velocities_prev,\n",
    "       density_prev)\n",
    "\n",
    "    # (3) Belongs to the Zou/He scheme\n",
    "    discrete_velocities_prev =\\\n",
    "          discrete_velocities_prev.at[0, ..., RIGHT_VELOCITIES].set(\n",
    "              equilibrium_discrete_velocities[0, ..., RIGHT_VELOCITIES])\n",
    "\n",
    "    # (5) Collide according to MRT\n",
    "    discrete_velocities_post_collision = (discrete_velocities_prev -\n",
    "                                          jnp.einsum('...Q, PQ-> ...P',\n",
    "                                                     discrete_velocities_prev -\n",
    "                                                     equilibrium_discrete_velocities,\n",
    "                                          (COLLISION_OPERATOR)))\n",
    "\n",
    "    # (6) Bounce-Back Boundary Conditions to enfore the no-slip\n",
    "    for i in range(N_DISCRETE_VELOCITIES):\n",
    "        discrete_velocities_post_collision = discrete_velocities_post_collision.at[OBSTACLE_MASK, LATTICE_INDICES[i]].set(\n",
    "                                                      discrete_velocities_prev[OBSTACLE_MASK, OPPOSITE_LATTICE_INDICES[i]])\n",
    "\n",
    "    # (7) Stream alongside lattice velocities\n",
    "    discrete_velocities_streamed = discrete_velocities_post_collision\n",
    "    for i in range(N_DISCRETE_VELOCITIES):\n",
    "        discrete_velocities_streamed = discrete_velocities_streamed.at[..., i].set(\n",
    "            jnp.roll(discrete_velocities_post_collision[..., i],\n",
    "            LATTICE_VELOCITIES[:, i], axis = (0, 1, 2)))\n",
    "\n",
    "\n",
    "    return discrete_velocities_streamed\n"
   ]
  },
  {
   "cell_type": "code",
   "execution_count": null,
   "metadata": {
    "id": "uQEDU8m1yeRX"
   },
   "outputs": [],
   "source": [
    "%matplotlib tk\n",
    "PLOT_EVERY_N_STEP = 100\n",
    "SKIP_FIRST_N = 0\n",
    "def run(discrete_velocities_prev):\n",
    "        maximum_velocity_L = []\n",
    "        fig, axs = plt.subplots(2, 1, figsize = (10, 8))\n",
    "        for i in tqdm(range(NUMBER_OF_ITERATIONS)):\n",
    "            discrete_velocities_next = update(discrete_velocities_prev)\n",
    "            discrete_velocities_prev = discrete_velocities_next\n",
    "\n",
    "            density_L = get_density(discrete_velocities_next)\n",
    "            macroscopic_velocities_L = get_macroscopic_velocities(\n",
    "                discrete_velocities_next,\n",
    "                density_L)\n",
    "            velocity_magnitude_L = jnp.linalg.norm(\n",
    "                macroscopic_velocities_L,\n",
    "                axis=-1,\n",
    "                ord=2)\n",
    "            maximum_velocity_L.append(jnp.max(velocity_magnitude_L))\n",
    "            velocity_magnitude_L = velocity_magnitude_L.at[OBSTACLE_MASK].set(jnp.nan)\n",
    "            if i % PLOT_EVERY_N_STEP == 0 and i > SKIP_FIRST_N - PLOT_EVERY_N_STEP:\n",
    "                contour = axs[0].contourf(X[..., nz//2], Y[...,  nz//2],\n",
    "                             velocity_magnitude_L[...,  nz//2],\n",
    "                             alpha=1, levels=50,  vmax = 0.01, cmap=\"inferno\")\n",
    "                plt.colorbar(contour, ax=axs[0], orientation='vertical')\n",
    "                plt.axis('equal')\n",
    "                plt.axis('off')\n",
    "\n",
    "                time = jnp.linspace(0,\n",
    "                                    convert_to_physical_units(\n",
    "                                        i,\n",
    "                                        time = 1),\n",
    "                                    i+1)\n",
    "\n",
    "                # print(len(maximum_velocity_L))\n",
    "                maximum_velocity_P = convert_to_physical_units(\n",
    "                    jnp.array(maximum_velocity_L),\n",
    "                    length = 1,\n",
    "                    time = -1\n",
    "                )\n",
    "\n",
    "                # print(len(maximum_velocity_P))\n",
    "                axs[1].plot(time, maximum_velocity_P, c = 'k')\n",
    "                plt.xlabel('time (s)')\n",
    "                plt.ylabel('maximum velocity (m/s)')\n",
    "                plt.grid()\n",
    "\n",
    "                plt.tight_layout()\n",
    "                plt.draw()\n",
    "        return discrete_velocities_next\n",
    "discrete_velocities = run(discrete_velocities_prev)"
   ]
  },
  {
   "cell_type": "markdown",
   "metadata": {
    "id": "dDiuat4nmH0G"
   },
   "source": [
    "## The results\n",
    "The graph shows us the maximum physical velocity in our domain. It starts off at the initial velocity we defined (10 m/s in the example) and then increases rapidly. Over time the maximum velocity decreases until it stabilizes around the 2.5 seconds mark.\n",
    "\n",
    "Due to some unphysical behaviour the velocity starts off quite erratic but soon becomes a smoother curve.\n",
    "\n",
    "## Force\n",
    "In a previous notebook, the momentum exchange method was used to determine force. The method described there shows the results for force in lattice units. With the discrete velocities returned from the funciton we can calculate the force in lattice units, and convert them to physical units.\n",
    "\n",
    "First we get the lattice units:"
   ]
  },
  {
   "cell_type": "code",
   "execution_count": null,
   "metadata": {
    "id": "S3U2e5-aVp_d"
   },
   "outputs": [],
   "source": [
    "MOMENTUM_EXCHANGE_MASK_IN  = jnp.zeros((nx, ny, nz, 19)) > 0\n",
    "MOMENTUM_EXCHANGE_MASK_OUT = jnp.zeros((nx, ny, nz, 19)) > 0\n",
    "\n",
    "for i, (x, y, z) in enumerate(LATTICE_VELOCITIES.T):\n",
    "  # Determine the momentum going into the object:\n",
    "  location_in = jnp.logical_and(\n",
    "              jnp.roll(\n",
    "                  jnp.logical_not(OBSTACLE_MASK),\n",
    "                  (x, y, z),\n",
    "                  axis = (0, 1, 2)),\n",
    "              OBSTACLE_MASK)\n",
    "\n",
    "  MOMENTUM_EXCHANGE_MASK_IN = MOMENTUM_EXCHANGE_MASK_IN.at[location_in, i].set(True)\n",
    "\n",
    "  # Determine the momentum going out of the object:\n",
    "  location_out = jnp.logical_and(\n",
    "              jnp.roll(\n",
    "                  OBSTACLE_MASK,\n",
    "                  (-x, -y, -z),\n",
    "                  axis = (0, 1, 2)),\n",
    "              jnp.logical_not(OBSTACLE_MASK))\n",
    "\n",
    "  MOMENTUM_EXCHANGE_MASK_OUT = MOMENTUM_EXCHANGE_MASK_OUT.at[location_out, OPPOSITE_LATTICE_INDICES[i]].set(True)\n",
    "\n",
    "force_L = jnp.sum(\n",
    "                  (LATTICE_VELOCITIES.T[jnp.newaxis, jnp.newaxis, jnp.newaxis, ...] *\n",
    "                   discrete_velocities[..., jnp.newaxis])[MOMENTUM_EXCHANGE_MASK_IN] +\n",
    "                   (LATTICE_VELOCITIES.T[OPPOSITE_LATTICE_INDICES][jnp.newaxis, jnp.newaxis, jnp.newaxis, ...] *\n",
    "                    discrete_velocities[..., jnp.newaxis])[MOMENTUM_EXCHANGE_MASK_OUT],\n",
    "                  axis = 0)"
   ]
  },
  {
   "cell_type": "markdown",
   "metadata": {
    "id": "r_ZwR3HhllEM"
   },
   "source": [
    "And then we convert to physical units (in $kg^1 m^1 s^{-2}$):"
   ]
  },
  {
   "cell_type": "code",
   "execution_count": null,
   "metadata": {
    "id": "XLa4bwKSlnV5"
   },
   "outputs": [],
   "source": [
    "force_P = convert_to_physical_units(force_L,\n",
    "                                    mass = 1,\n",
    "                                    length = 1,\n",
    "                                    time = -2)\n",
    "\n",
    "print(f'Force over the horizontal axis: {force_P[0]: ,g} kg⋅m/s²')"
   ]
  },
  {
   "cell_type": "code",
   "execution_count": null,
   "metadata": {
    "id": "M6CrT7UtIDWq"
   },
   "outputs": [],
   "source": []
  }
 ],
 "metadata": {
  "accelerator": "GPU",
  "colab": {
   "provenance": []
  },
  "kernelspec": {
   "display_name": "Python 3 (ipykernel)",
   "language": "python",
   "name": "python3"
  },
  "language_info": {
   "codemirror_mode": {
    "name": "ipython",
    "version": 3
   },
   "file_extension": ".py",
   "mimetype": "text/x-python",
   "name": "python",
   "nbconvert_exporter": "python",
   "pygments_lexer": "ipython3",
   "version": "3.12.2"
  }
 },
 "nbformat": 4,
 "nbformat_minor": 4
}
