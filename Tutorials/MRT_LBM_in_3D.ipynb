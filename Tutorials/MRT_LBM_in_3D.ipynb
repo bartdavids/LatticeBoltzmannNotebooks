{
  "cells": [
    {
      "cell_type": "markdown",
      "metadata": {
        "id": "ZTssM17JsV53"
      },
      "source": [
        "# The Lattice Boltzmann Method - Multi-Relaxation Time\n",
        "\n",
        "This notebook uses the Lattice Boltzmann Method (LBM) for numerical simulation of fluid flow to determine and visualize the vortical flow behind a sphere. Written in python and jax. This notebook will focus on using the Multi-Relaxation Time colission operator to enable more stable simulation with the LBM. This particular example increases the Reynolds number to a domain where the BGK collision method would create an unstable simulation.\n",
        "\n",
        "The vortical flow behind a sphere can have a very complex structure in 3 dimensions. We are going to visualize it using 3D plotting with plotly.\n",
        "  \n",
        "The code is adjusted from the the code presented by Machine Learning & Simulation (MLS) in 2D:\n",
        "- on [Youtube](https://www.youtube.com/watch?v=ZUXmO4hu-20&list=LL&index=1&ab_channel=MachineLearning%26Simulation) and [Github](https://github.com/Ceyron/machine-learning-and-simulation/blob/main/english/simulation_scripts/lattice_boltzmann_method_python_jax.py)\n",
        "\n",
        "Other code on the LBM:\n",
        "- LBM in 3D: [Google Colab](https://colab.research.google.com/drive/1F3EH9_2N3lkEpgQXOScR3lcQ6oqCARPk?usp=sharing) and [Github](https://github.com/Ceyron/machine-learning-and-simulation/blob/main/english/simulation_scripts/D3Q19_lattice_bolzmann_method_python_jax.py)\n",
        "\n",
        "- On stress, force and drag: [Google Colab](https://colab.research.google.com/drive/1oryCdOPXapOWxGSgCDNkvSUQ_MahfoRX?usp=sharing) and [Github](https://github.com/Ceyron/machine-learning-and-simulation/blob/main/english/simulation_scripts/D3Q19_lattice_boltzmann_method_stress_force_drag.py)\n",
        "\n",
        "- On unit conversion: [Google Colab](https://colab.research.google.com/drive/1OkpFHdGmCEmfEq1a_FgKsiRgc-gh6g2A?usp=sharing)\n",
        "\n",
        "It is recommended to watch that video first and go through the notebook on 3D LBM, because a lot of explanation of this method, the setup and syntax mentioned in that video and code will be skipped here."
      ]
    },
    {
      "cell_type": "code",
      "execution_count": null,
      "metadata": {
        "id": "mp4VWE6gOEHT"
      },
      "outputs": [],
      "source": [
        "import jax\n",
        "import jax.numpy as jnp\n",
        "import matplotlib.pyplot as plt\n",
        "import plotly.graph_objects as go\n",
        "from tqdm import tqdm\n",
        "\n",
        "# Enable 64bit\n",
        "jax.config.update(\"jax_enable_x64\", True)"
      ]
    },
    {
      "cell_type": "markdown",
      "metadata": {
        "id": "uhWOXzT6v8Kg"
      },
      "source": [
        "# Setup of the domain\n",
        "The fluid flow simulation we are preparing is a cylinder in fluid flow, with the aim to make a Karman Vortex Street behind the cylinder. The modelled domain is going to be 300 cells along the x-axis and 50 along the y- and z-axis. The fluid is going to flow into the domain from the left, where x = 0.\n",
        "\n",
        "In below cell is also the viscosity defined. The viscosity determines the Reynolds number, which is a measure of the characteristics of the flow, and the relaxation $\\omega$, which is a relaxation parameter for the LBM method. The inverse ($1/\\omega$) is the relaxation time $\\tau$."
      ]
    },
    {
      "cell_type": "code",
      "execution_count": null,
      "metadata": {
        "id": "ZrMtXqgmXD5F"
      },
      "outputs": [],
      "source": [
        "circle_radius = 6\n",
        "ny = 10*circle_radius\n",
        "nz = 10*circle_radius\n",
        "nx = 60*circle_radius\n",
        "\n",
        "reynolds_number = 500\n",
        "HORIZONTAL_INFLOW_VELOCITY = 0.1          #  cm/s\n",
        "\n",
        "KINEMATIC_VISCOSITY = (HORIZONTAL_INFLOW_VELOCITY * circle_radius) / reynolds_number\n",
        "RELAXATION_OMEGA = (1.0 / (3.0 * KINEMATIC_VISCOSITY + 0.5))\n",
        "\n",
        "print('kinematic viscosity:', KINEMATIC_VISCOSITY, \"cm2/s\")"
      ]
    },
    {
      "cell_type": "markdown",
      "metadata": {
        "id": "FNMHcqov35Jj"
      },
      "source": [
        "The sphere is defined below, as any obstacle used so far: in a boolean array.\n",
        "To get into the interactive 3D plotting from plotly, we can have a look at our sphere with it:"
      ]
    },
    {
      "cell_type": "code",
      "execution_count": null,
      "metadata": {
        "id": "cLHABP9zs0WO"
      },
      "outputs": [],
      "source": [
        "x = jnp.arange(nx)\n",
        "y = jnp.arange(ny)\n",
        "z = jnp.arange(nz)\n",
        "X, Y, Z = jnp.meshgrid(x, y, z, indexing=\"ij\")\n",
        "\n",
        "sphere = jnp.sqrt((X - nx//5)**2 + (Y - ny//2)**2 + (Z - nz//2)**2)\n",
        "obstacle_mask = sphere < circle_radius\n",
        "\n",
        "def show_3D_boolean(values, width = 1400, color = 'gray'):\n",
        "    nx, ny, nz = values.shape\n",
        "    fig = go.Figure(data=go.Isosurface(\n",
        "        x=X.flatten(),\n",
        "        y=Y.flatten(),\n",
        "        z=Z.flatten(),\n",
        "        value=values.flatten(),\n",
        "        colorscale = [color, color],\n",
        "\n",
        "        # The plot shows values from 0 to 1. By setting the min to > 0 the domain boundaries don't show up.\n",
        "        isomin=0.5,\n",
        "\n",
        "        # Only show the isoplot of specified values (standard is 2, the min and the max)\n",
        "        caps=dict(x_show=False, y_show=False)\n",
        "        ))\n",
        "\n",
        "\n",
        "\n",
        "    # Set the plot size to domain size\n",
        "    fig.update_layout(\n",
        "        scene = dict(\n",
        "            xaxis = dict(range = [0, nx]),\n",
        "            yaxis = dict(range = [0, ny]),\n",
        "            zaxis = dict(range = [0, nz]),\n",
        "            aspectratio = dict(x = nx/nx,\n",
        "                               y = ny/nx,\n",
        "                               z = nz/nx)),\n",
        "        width = width,\n",
        "        colorscale=dict()\n",
        "        )\n",
        "\n",
        "    fig.show()\n",
        "show_3D_boolean(obstacle_mask)"
      ]
    },
    {
      "cell_type": "markdown",
      "metadata": {
        "id": "7RrHE-9aMALV"
      },
      "source": [
        "## D3Q19 - LBM\n",
        "For the 3D version of the LBM method there is choice between D3Q15, D3Q19 and D3Q27. Here we are going to use the D3Q19 version. There are some differences with the other versions, beyond the different lattice velocities. When taking into account MRT-LBM with the other versions of 3D LBM, check out the relevant lattice velocities and MRT matrices.\n",
        "\n",
        "For D3Q19 we can define its lattice velocities as usual:"
      ]
    },
    {
      "cell_type": "code",
      "execution_count": null,
      "metadata": {
        "id": "g_rtt8_5AHSL"
      },
      "outputs": [],
      "source": [
        "N_DISCRETE_VELOCITIES = 19\n",
        "\n",
        "LATTICE_INDICES =     jnp.array([0, 1, 2, 3, 4, 5, 6, 7, 8, 9,10,11,12,13,14,15,16,17,18])\n",
        "LATICE_VELOCITIES_X = jnp.array([0, 1,-1, 0, 0, 0, 0, 1,-1, 1,-1, 1,-1, 1,-1, 0, 0, 0, 0])\n",
        "LATICE_VELOCITIES_Y = jnp.array([0, 0, 0, 1,-1, 0, 0, 1, 1,-1,-1, 0, 0, 0, 0, 1,-1, 1,-1])\n",
        "LATICE_VELOCITIES_Z = jnp.array([0, 0, 0, 0, 0, 1,-1, 0, 0, 0, 0, 1, 1,-1,-1, 1, 1,-1,-1])\n",
        "\n",
        "LATTICE_VELOCITIES = jnp.array([LATICE_VELOCITIES_X,\n",
        "                                LATICE_VELOCITIES_Y,\n",
        "                                LATICE_VELOCITIES_Z])\n",
        "\n",
        "LATTICE_WEIGHTS = jnp.array([# rest particle\n",
        "                             1/3,\n",
        "\n",
        "                             # face-connected neighbors\n",
        "                             1/18, 1/18, 1/18, 1/18, 1/18, 1/18,\n",
        "\n",
        "                             # edge-connected neighbors\n",
        "                             1/36, 1/36, 1/36, 1/36, 1/36, 1/36, 1/36, 1/36, 1/36, 1/36, 1/36, 1/36])\n",
        "\n",
        "OPPOSITE_LATTICE_INDICES = jnp.array([jnp.where((LATTICE_VELOCITIES.T == -LATTICE_VELOCITIES[:, i]).all(axis = 1))[0] for i in range(N_DISCRETE_VELOCITIES)]).T[0]\n",
        "\n",
        "RIGHT_VELOCITIES = jnp.where(LATICE_VELOCITIES_X == 1)[0]   # [ 1,  7,  9, 11, 13]\n",
        "LEFT_VELOCITIES =  jnp.where(LATICE_VELOCITIES_X ==-1)[0]   # [ 2,  8, 10, 12, 14]\n",
        "YZ_VELOCITIES =    jnp.where(LATICE_VELOCITIES_X == 0)[0]   # [ 0,  3,  4,  5,  6, 15, 16, 17, 18]"
      ]
    },
    {
      "cell_type": "markdown",
      "metadata": {
        "id": "VetFFDAzkXct"
      },
      "source": [
        "## MLT\n",
        "\n",
        "The evolution equation for the single-relaxation LBM is described as:\n",
        "\n",
        "$f(c_i, t + 1) = f(c_i, t) - \\textbf{S} \\left[f(c_i, t) - f^{eq}(c_i, t) \\right]$\n",
        "\n",
        "Where the lefthand side shows the streamed velocities end the righthand side the streaming and collission step. $f(c_i, t + 1)$ are the streamed discrete velocities, $f(c_i, t)$ are the previous discrete velocities and $f^{eq}(c_i, t)$ are the equilibrium version of the previous velocities.\n",
        "The righthand side shows the collission step with the $\\textbf{S}$ and the colission step we are used to. Where in the BGK the relaxation omega $\\omega$ (= $\\frac{1}{\\tau}$) would be, the collission matrix $\\textbf{S}$ is shown.\n",
        "The BGK method is the special case where the matrix $\\textbf{S} = \\omega I$, where $I$ is the identity matrix.  \n",
        "\n",
        "But of course, we are not interested in the **single**-relaxation time method (this time)! The single relaxation method is added here to help your understanding of what is to come: the **multi**-relaxation time method. For a more complete explanantion of the MRT method, I would refer you to [this paper](https://www.researchgate.net/publication/7550572_Multiple-Relaxation-Time_Lattice_Boltzmann_Models_in_Three_Dimensions).\n",
        "\n",
        "The evolution equation for the MRT method is based on the principle of streaming in moment space, rather than lattice velocity space.\n",
        "\n",
        "This requires the following steps when streaming with the MRT method:\n",
        "\n",
        "1) Converting to moment space:\n",
        "\n",
        "> $ m = \\textbf{M}\\cdot f$\n",
        "\n",
        "> $ m^{eq} = \\textbf{M}\\cdot f^{eq}$\n",
        "\n",
        "2) Streaming in moment space:\n",
        "\n",
        "> $m_{t + 1} = m_{t} - \\textbf{S} \\cdot (m_{t} - m^{eq}_{t})$\n",
        "\n",
        "3) Converting back to velocity space\n",
        "\n",
        "> $f_{t+1} =  \\textbf{M}^{-1}\\cdot m_{t+1}$\n",
        "\n",
        "Which can all be strung together as:\n",
        "\n",
        "> $f_{t+ 1} = \\textbf{M}^{-1}\\cdot \\textbf{M} \\cdot f_{t} - \\textbf{M}^{-1}\\cdot\\textbf{S}\\cdot \\textbf{M} \\cdot \\left[f_{t} - f^{eq}_{t} \\right]$\n",
        "\n",
        "And reduced to:\n",
        "\n",
        "> $f_{t+ 1} =  f_{t} - \\hat{\\textbf{S}}\\cdot \\left[f_{t} - f^{eq}_{t} \\right]$\n",
        "\n",
        "by precomputing the collision operator $\\hat{\\textbf{S}}$:\n",
        "\n",
        "> $\\hat{\\textbf{S}} = \\textbf{M}^{-1}\\cdot\\textbf{S}\\cdot\\textbf{M}$\n",
        "\n",
        "The matrix $\\textbf{M}$ is used for transforming the discrete velocities to the moments $m$. $\\textbf{M}^{-1}$ Is the inverse of the transformation matrix $\\textbf{M}$. The derivation is complicated and uses Hermite polynomials, but the values for $\\textbf{M}$ for D3Q19 (derived using the Gram-Schmidt procedure for those interested) are defined below in the coded cell. The diagonal values for $\\hat{\\textbf{S}}$ ($s_1$ to $s_{19}$, except for $s_9$ and $s_{13}$) can be chosen between 0 and 2 and tweaked to increase the stability of the model for your boundary conditions and Reynolds number. The values chosen here have been determined to optimal for a different situation described [here](https://ntrs.nasa.gov/api/citations/20000046606/downloads/20000046606.pdf), but suites our purpose here just fine. The values for $s_9$ and $s_{13}$ are $\\omega$."
      ]
    },
    {
      "cell_type": "code",
      "execution_count": null,
      "metadata": {
        "id": "IIJhS24TNaX2"
      },
      "outputs": [],
      "source": [
        "M = jnp.array([ [  1,  1,  1,  1,  1,  1,  1,  1,  1,  1,  1,  1,  1,  1,  1,  1,  1,  1,  1],\n",
        "                [-30,-11,-11,-11,-11,-11,-11,  8,  8,  8,  8,  8,  8,  8,  8,  8,  8,  8,  8],\n",
        "                [ 12, -4, -4, -4, -4, -4, -4,  1,  1,  1,  1,  1,  1,  1,  1,  1,  1,  1,  1],\n",
        "                [  0,  1, -1,  0,  0,  0,  0,  1, -1,  1, -1,  1, -1,  1, -1,  0,  0,  0,  0],\n",
        "                [  0, -4,  4,  0,  0,  0,  0,  1, -1,  1, -1,  1, -1,  1, -1,  0,  0,  0,  0],\n",
        "                [  0,  0,  0,  1, -1,  0,  0,  1,  1, -1, -1,  0,  0,  0,  0,  1, -1,  1, -1],\n",
        "                [  0,  0,  0, -4,  4,  0,  0,  1,  1, -1, -1,  0,  0,  0,  0,  1, -1,  1, -1],\n",
        "                [  0,  0,  0,  0,  0,  1, -1,  0,  0,  0,  0,  1,  1, -1, -1,  1,  1, -1, -1],\n",
        "                [  0,  0,  0,  0,  0, -4,  4,  0,  0,  0,  0,  1,  1, -1, -1,  1,  1, -1, -1],\n",
        "                [  0,  2,  2, -1, -1, -1, -1,  1,  1,  1,  1,  1,  1,  1,  1, -2, -2, -2, -2],\n",
        "                [  0, -4, -4,  2,  2,  2,  2,  1,  1,  1,  1,  1,  1,  1,  1, -2, -2, -2, -2],\n",
        "                [  0,  0,  0,  1,  1, -1, -1,  1,  1,  1,  1, -1, -1, -1, -1,  0,  0,  0,  0],\n",
        "                [  0,  0,  0, -2, -2,  2,  2,  1,  1,  1,  1, -1, -1, -1, -1,  0,  0,  0,  0],\n",
        "                [  0,  0,  0,  0,  0,  0,  0,  1, -1, -1,  1,  0,  0,  0,  0,  0,  0,  0,  0],\n",
        "                [  0,  0,  0,  0,  0,  0,  0,  0,  0,  0,  0,  0,  0,  0,  0,  1, -1, -1,  1],\n",
        "                [  0,  0,  0,  0,  0,  0,  0,  0,  0,  0,  0,  1, -1, -1,  1,  0,  0,  0,  0],\n",
        "                [  0,  0,  0,  0,  0,  0,  0,  1, -1,  1, -1, -1,  1, -1,  1,  0,  0,  0,  0],\n",
        "                [  0,  0,  0,  0,  0,  0,  0, -1, -1,  1,  1,  0,  0,  0,  0,  1, -1,  1, -1],\n",
        "                [  0,  0,  0,  0,  0,  0,  0,  0,  0,  0,  0,  1,  1, -1, -1, -1, -1,  1,  1]])\n",
        "M_inv = jnp.linalg.inv(M)\n",
        "\n",
        "s1 = 1.19\n",
        "s2 = s10 = 1.4\n",
        "s4 = 1.2\n",
        "s16 = 1.98\n",
        "s9 = s13 = RELAXATION_OMEGA\n",
        "\n",
        "S = jnp.eye(N_DISCRETE_VELOCITIES) * jnp.array([0, s1, s2, 0, s4, 0, s4, 0, s4, s9, s10, s9, s10, s13, s13, s13, s16, s16, s16])\n",
        "\n",
        "COLLISION_OPERATOR = M_inv @ S @ M"
      ]
    },
    {
      "cell_type": "markdown",
      "metadata": {
        "id": "H0ShrKO6AwhJ"
      },
      "source": [
        "The above definition of $\\hat{\\textbf{S}}$ can be reduced to the BGK collission method by setting the diagonals of $\\hat{\\textbf{S}}$ to $\\omega$. This will result in an unstable simulation for the boundary conditions set above!\n",
        "\n",
        "You can see the difference by running the code in below cell (after removing the #):"
      ]
    },
    {
      "cell_type": "code",
      "execution_count": null,
      "metadata": {
        "id": "jArKa8SAAzf2"
      },
      "outputs": [],
      "source": [
        "# COLLISION_OPERATOR = jnp.eye(N_DISCRETE_VELOCITIES) * RELAXATION_OMEGA"
      ]
    },
    {
      "cell_type": "markdown",
      "metadata": {
        "id": "_TrcjfS8RJAL"
      },
      "source": [
        "# Useful functions\n",
        "These functions are independent of the number of dimensions and can run with 2D and 3D simulations.\n",
        "\n",
        "## Moments\n",
        "The formulation for the moments is very much the same as for the macroscopic velocities. This is beause it is both a dot-product between a matrix and a vector.\n"
      ]
    },
    {
      "cell_type": "code",
      "execution_count": null,
      "metadata": {
        "id": "lnk3SzHw7k0U"
      },
      "outputs": [],
      "source": [
        "def get_density(discrete_velocities):\n",
        "    return jnp.sum(discrete_velocities, axis=-1)\n",
        "\n",
        "def get_macroscopic_velocities(discrete_velocities, density):\n",
        "    return jnp.einsum(\"...Q, dQ -> ...d\", discrete_velocities, LATTICE_VELOCITIES) / density[..., jnp.newaxis]\n",
        "\n",
        "def get_equilibrium_discrete_velocities(macroscopic_velocities, density):\n",
        "    projected_discrete_velocities = jnp.einsum(\"dQ, ...d -> ...Q\", LATTICE_VELOCITIES, macroscopic_velocities)\n",
        "    macroscopic_velocity_magnitude = jnp.linalg.norm(macroscopic_velocities, axis=-1, ord=2)\n",
        "    equilibrium_discrete_velocities = (jnp.einsum(\"..., Q -> ...Q\", density, LATTICE_WEIGHTS) *\n",
        "        (1 + 3 * projected_discrete_velocities + 9/2 * projected_discrete_velocities**2 -\n",
        "        3/2 * macroscopic_velocity_magnitude[..., jnp.newaxis]**2))\n",
        "    return equilibrium_discrete_velocities\n",
        "\n",
        "def get_moments(discrete_velocities):\n",
        "    return jnp.einsum('...Q, PQ -> ...P', discrete_velocities, M)\n"
      ]
    },
    {
      "cell_type": "markdown",
      "metadata": {
        "id": "tMNApFpfQ7WN"
      },
      "source": [
        "## The steps of the MRT-LBM\n",
        "The 7 steps as given in the MLS video and code are not adjusted much to the notebook on LBM in 3D. The noteable exception os the collsion operator in the collision step. The same boundary conditions and order of the steps are used."
      ]
    },
    {
      "cell_type": "code",
      "execution_count": null,
      "metadata": {
        "id": "nd5FBXjrvCZ9"
      },
      "outputs": [],
      "source": [
        "@jax.jit\n",
        "def update(discrete_velocities_prev):\n",
        "    # (1) Prescribe the outflow BC on the right boundary. Flow can go out, but not back in.\n",
        "    discrete_velocities_prev = discrete_velocities_prev.at[-1, ..., LEFT_VELOCITIES].set(discrete_velocities_prev[-2, ..., LEFT_VELOCITIES])\n",
        "\n",
        "    # (2) Determine macroscopic velocities\n",
        "    density_prev = get_density(discrete_velocities_prev)\n",
        "    macroscopic_velocities_prev = get_macroscopic_velocities(\n",
        "        discrete_velocities_prev,\n",
        "        density_prev)\n",
        "\n",
        "    # (3) Prescribe Inflow Dirichlet BC using Zou/He scheme in 3D:\n",
        "    macroscopic_velocities_prev = macroscopic_velocities_prev.at[0, ...].set(VELOCITY_PROFILE[0, ...])\n",
        "    lateral_densities = get_density(jnp.einsum('i...->...i', discrete_velocities_prev[0, ..., YZ_VELOCITIES]))\n",
        "    left_densities = get_density(jnp.einsum('i...->...i', discrete_velocities_prev[0, ..., LEFT_VELOCITIES]))\n",
        "    density_prev = density_prev.at[0, ...].set((lateral_densities + 2 * left_densities) /\n",
        "                                                (1 - macroscopic_velocities_prev[0, ..., 0]))\n",
        "\n",
        "    # (4) Compute discrete Equilibria velocities\n",
        "    equilibrium_discrete_velocities = get_equilibrium_discrete_velocities(\n",
        "       macroscopic_velocities_prev,\n",
        "       density_prev)\n",
        "\n",
        "    # (3) Belongs to the Zou/He scheme\n",
        "    discrete_velocities_prev =\\\n",
        "          discrete_velocities_prev.at[0, ..., RIGHT_VELOCITIES].set(\n",
        "              equilibrium_discrete_velocities[0, ..., RIGHT_VELOCITIES])\n",
        "\n",
        "    # (5) Collide according to MRT\n",
        "    discrete_velocities_post_collision = (discrete_velocities_prev -\n",
        "                                          jnp.einsum('...Q, PQ-> ...P',\n",
        "                                                     discrete_velocities_prev -\n",
        "                                                     equilibrium_discrete_velocities,\n",
        "                                          (COLLISION_OPERATOR)))\n",
        "\n",
        "    # (6) Bounce-Back Boundary Conditions to enfore the no-slip\n",
        "    for i in range(N_DISCRETE_VELOCITIES):\n",
        "        discrete_velocities_post_collision = discrete_velocities_post_collision.at[obstacle_mask, LATTICE_INDICES[i]].set(\n",
        "                                                      discrete_velocities_prev[obstacle_mask, OPPOSITE_LATTICE_INDICES[i]])\n",
        "\n",
        "    # (7) Stream alongside lattice velocities\n",
        "    discrete_velocities_streamed = discrete_velocities_post_collision\n",
        "    for i in range(N_DISCRETE_VELOCITIES):\n",
        "        discrete_velocities_streamed = discrete_velocities_streamed.at[..., i].set(\n",
        "            jnp.roll(discrete_velocities_post_collision[..., i],\n",
        "            LATTICE_VELOCITIES[:, i], axis = (0, 1, 2)))\n",
        "\n",
        "\n",
        "    return discrete_velocities_streamed"
      ]
    },
    {
      "cell_type": "markdown",
      "metadata": {
        "id": "fydQgEq40Mgy"
      },
      "source": [
        "## Ready to run!\n",
        "Now we define the parameters for plotting and running and innitialize the discrete velocities.\n",
        "\n",
        "And then we run!"
      ]
    },
    {
      "cell_type": "markdown",
      "metadata": {
        "id": "2vxadEY8YEG5"
      },
      "source": [
        "## Results\n",
        "The images plotted above are already quite beautiful, showing the more complex vorticity compared to the vortex shedding behind a cylinder.  There are different algorithms to determine this, of which the easiest to grasp are the Lambda2 and Q-criterion. Both dependent on determining the strain rate and vorticity tensors.\n",
        "\n",
        "The Lambda2 method has a [Wikipedia page](https://en.wikipedia.org/wiki/Lambda2_method) that explains the method very well and is reproduced below in the function Lambda2.\n",
        "\n",
        "The Q-criterion compares the vorticity and strain rate magnitudes and where the vorticity magnitude is larger, considers the node to be in the vortex.\n",
        "\n",
        "Both methods have a cutoff value to manually tweak for better visualisation."
      ]
    },
    {
      "cell_type": "code",
      "execution_count": null,
      "metadata": {
        "id": "OanMpMvrolwU"
      },
      "outputs": [],
      "source": [
        "PLOT_EVERY_N_STEPS = 250\n",
        "SKIP_FIRST_N_ITERATIONS = 250\n",
        "N_ITERATIONS = 5_000\n",
        "noise_magnitude = 0.01\n",
        "key = jax.random.PRNGKey(0)\n",
        "VELOCITY_PROFILE = jnp.zeros((nx, ny, nz, 3))\n",
        "NOISE = jax.random.normal(key, (ny, nz)) * noise_magnitude\n",
        "VELOCITY_PROFILE = VELOCITY_PROFILE.at[:, :, :, 0].set(HORIZONTAL_INFLOW_VELOCITY + NOISE)\n",
        "discrete_velocities_prev = get_equilibrium_discrete_velocities(VELOCITY_PROFILE,\n",
        "                                                               jnp.ones((nx, ny, nz)))\n",
        "\n",
        "def run(discrete_velocities_prev):\n",
        "    for i in tqdm(range(N_ITERATIONS)):\n",
        "        discrete_velocities_next = update(discrete_velocities_prev)\n",
        "        discrete_velocities_prev = discrete_velocities_next\n",
        "\n",
        "        if i % PLOT_EVERY_N_STEPS == 0 and i > SKIP_FIRST_N_ITERATIONS - PLOT_EVERY_N_STEPS:\n",
        "            density = get_density(discrete_velocities_next)\n",
        "            macroscopic_velocities = get_macroscopic_velocities(\n",
        "                discrete_velocities_next,\n",
        "                density)\n",
        "            velocity_magnitude = jnp.linalg.norm(\n",
        "                macroscopic_velocities,\n",
        "                axis=-1,\n",
        "                ord=2)\n",
        "\n",
        "            d_u__d_x, d_u__d_y = jnp.gradient(macroscopic_velocities[..., nz//2, 0])\n",
        "            d_v__d_x, d_v__d_y = jnp.gradient(macroscopic_velocities[..., nz//2, 1])\n",
        "            curl = (d_u__d_y - d_v__d_x)\n",
        "\n",
        "            fig = plt.figure(figsize = (15, 3))\n",
        "            cont = plt.contourf(\n",
        "                X[:, :, nz//2],\n",
        "                Y[:, :,  nz//2],\n",
        "                jnp.flip(velocity_magnitude[:, :,  nz//2], axis = 1),\n",
        "                cmap=\"inferno\"\n",
        "                )\n",
        "            plt.axis('scaled')\n",
        "            plt.axis('off')\n",
        "            plt.show()\n",
        "\n",
        "            fig = plt.figure(figsize = (15, 3))\n",
        "            cont = plt.contourf(\n",
        "                X[:, :, nz//2],\n",
        "                Y[:, :,  nz//2],\n",
        "                jnp.flip(curl, axis = 1),\n",
        "                levels = 50,\n",
        "                cmap=\"seismic\",\n",
        "                vmin = -0.2, vmax = 0.2)\n",
        "            plt.axis('scaled')\n",
        "            plt.axis('off')\n",
        "            plt.show()\n",
        "\n",
        "    return discrete_velocities_next\n",
        "\n",
        "discrete_velocities = run(discrete_velocities_prev)"
      ]
    },
    {
      "cell_type": "markdown",
      "source": [
        "## Visualizing the vortexes\n",
        "\n",
        "To really appreciated the complexity, and structures in the vortex, I recommend a look at it in 3D.\n",
        "\n",
        "But how do you know what is in a vortex? There are many methods to detect where a vortex occurs. I'm highlighting 2 common methods here. The Lambda2 method and the Q-criterion method.\n",
        "\n",
        "###Lambda2\n",
        "From the [Wikipedia page](https://en.wikipedia.org/wiki/Lambda2_method):\n",
        "\n",
        "$\\lambda1, \\lambda2, \\lambda3 = eigh(\\mathbf{S}^2 + \\mathbf{\\Omega}^2)$\n",
        "\n",
        "Where $\\mathbf{S} = \\frac{\\nabla \\mathbf{v} + \\nabla \\mathbf{v}^T}{2}$, the strain rate tensor and $\\mathbf{\\Omega} = \\frac{\\nabla \\mathbf{v} - \\nabla \\mathbf{v}^T}{2}$, the vorticity. The eigh operator returns the eigenvalues $\\lambda$.\n",
        "\n",
        "We require only the second eigenvalue, that's why the name Lambda2. At locations where the $\\lambda2$ is below a certain treshold, we decide to call that location a vortex.\n",
        "\n",
        "###Q-criterion\n",
        "The Q-criterion also uses the vorticity and the strain rate ([source](https://www.m4-engineering.com/q-criterion-for-vortex-visualization/)):\n",
        "\n",
        "$Q = |\\mathbf{\\Omega}|^2 - |\\mathbf{S}|^2$\n",
        "\n",
        "When the Q-value is above a specific treshold value, we decide the vertex to be in a vortex."
      ],
      "metadata": {
        "id": "Vx8d75VCO5ji"
      }
    },
    {
      "cell_type": "code",
      "execution_count": null,
      "metadata": {
        "id": "x0OKwpTTfb9L"
      },
      "outputs": [],
      "source": [
        "def Lambda2(macroscopic_velocities, negative_cutoff = 0):\n",
        "  \"\"\"Use vortex detection algorithm \"Lambda2\" to get which nodes in your velocity field are inside a vortex.\n",
        "  \"\"\"\n",
        "  # First define the gradients of the velocity field: Δu\n",
        "  _gradients = jnp.gradient(macroscopic_velocities, axis = (0, 1, 2))\n",
        "  gradients = jnp.einsum('d...D-> ...dD', jnp.array(_gradients))\n",
        "\n",
        "  # Get the strain rate tensor: S = (Δu + Δuᵀ)/2\n",
        "  transposed_gradients = jnp.einsum('...dD -> ...Dd', gradients)\n",
        "  strain_rate = (gradients + transposed_gradients)/2\n",
        "\n",
        "  # Get the vorticity tensor: Ω = (Δu - Δuᵀ)/2\n",
        "  vorticity = (gradients - transposed_gradients)/2\n",
        "\n",
        "  # Get the eigenvalues (λ) of S² + Ω².\n",
        "  S2_O2 = strain_rate**2 + vorticity**2\n",
        "  eigen_values, errors = jnp.linalg.eigh(S2_O2)\n",
        "\n",
        "  # Select the locations where λ₂ < the negative cutoff. Negative cutoff must be 0 or less.\n",
        "  in_vortex = (eigen_values < negative_cutoff)[..., 1]\n",
        "  return in_vortex\n",
        "\n",
        "def Q(macroscopic_velocities, positive_cutoff = 0):\n",
        "  \"\"\"Use vortex detection algorithm \"Q-criterion\" to get which nodes in your velocity field are inside a vortex.\n",
        "  \"\"\"\n",
        "  # First define the gradients of the velocity field: Δu\n",
        "  _gradients = jnp.gradient(macroscopic_velocities, axis = (0, 1, 2))\n",
        "  gradients = jnp.einsum('d...D-> ...dD', jnp.array(_gradients))\n",
        "\n",
        "  # Get the strain rate tensor: S = (Δu + Δuᵀ)/2\n",
        "  transposed_gradients = jnp.einsum('...dD -> ...Dd', gradients)\n",
        "  strain_rate = (gradients + transposed_gradients)/2\n",
        "\n",
        "  # Get the vorticity tensor: Ω = (Δu - Δuᵀ)/2\n",
        "  vorticity = (gradients - transposed_gradients)/2\n",
        "\n",
        "  # Get the vorticity and strain rate magnitude\n",
        "  n_vorticity = jnp.linalg.norm(vorticity, axis = (-2, -1))\n",
        "  n_strain_rate = jnp.linalg.norm(strain_rate, axis = (-2, -1))\n",
        "\n",
        "  # CHeck where the vorticity magnitude is larger than the strain rate magnitude\n",
        "  Q = (n_vorticity**2 - n_strain_rate**2) > positive_cutoff\n",
        "  return Q"
      ]
    },
    {
      "cell_type": "markdown",
      "source": [
        "Now we have the tools to show these vorteces off!\n",
        "\n",
        "Regretfully, the jnp.linalg.eigh function runs into an Xla error here. However, the Q-criterion works great as well!\n",
        "\n",
        "I'm keeping the Lambda2 method here as well, for it is often employed and yields better results in other cases I've implemented it.\n",
        "\n",
        "I'm choosing to have a different cutoff value over the x-axis of the domain. This way we can see the pretty features over more of the domain and reduce noise closer to the sphere."
      ],
      "metadata": {
        "id": "kx6PuPR7Uq5o"
      }
    },
    {
      "cell_type": "code",
      "execution_count": null,
      "metadata": {
        "id": "4U6vl-hTHwn0"
      },
      "outputs": [],
      "source": [
        "density = get_density(discrete_velocities)\n",
        "macroscopic_velocities = get_macroscopic_velocities(\n",
        "    discrete_velocities,\n",
        "    density)\n",
        "\n",
        "# vortex = Lambda2(macroscopic_velocities, negative_cutoff = -0.00000001)\n",
        "# vortex = Q(macroscopic_velocities, positive_cutoff = 0.000025)\n",
        "\n",
        "cutoff = (0.1 + jnp.exp(-(X/10)**2/(nx-1))*4) * 0.000025 # + 1e-6\n",
        "\n",
        "vortex = Q(macroscopic_velocities, positive_cutoff = cutoff)\n",
        "show_3D_boolean(vortex)\n",
        "plt.imshow(vortex[:, :, nz//2].T)"
      ]
    },
    {
      "cell_type": "markdown",
      "source": [
        "We can see these gorgeous loops flicking off the sphere. We can also already see the noise that flows into our domain."
      ],
      "metadata": {
        "id": "m_tFRHqdVY88"
      }
    },
    {
      "cell_type": "code",
      "source": [
        "\n",
        "cutoff = (3.1 - X/(nx-1)*3 + 1*jnp.exp(-(X+50)**2/(nx-1)))\n",
        "plt.imshow(cutoff[:, :, nz//2].T)\n",
        "plt.colorbar()"
      ],
      "metadata": {
        "id": "B_kGFlyfWFS8"
      },
      "execution_count": null,
      "outputs": []
    },
    {
      "cell_type": "code",
      "source": [
        "\n",
        "cutoff = (jnp.exp(-(X/20)**2/(nx-1)))\n",
        "plt.imshow(cutoff[:, :, nz//2].T)\n",
        "plt.colorbar()"
      ],
      "metadata": {
        "id": "gPUUyPBYYmUA"
      },
      "execution_count": null,
      "outputs": []
    },
    {
      "cell_type": "code",
      "source": [],
      "metadata": {
        "id": "K489AOYcZPcv"
      },
      "execution_count": null,
      "outputs": []
    }
  ],
  "metadata": {
    "colab": {
      "provenance": [],
      "gpuType": "T4"
    },
    "kernelspec": {
      "display_name": "Python 3",
      "name": "python3"
    },
    "language_info": {
      "name": "python"
    },
    "accelerator": "GPU"
  },
  "nbformat": 4,
  "nbformat_minor": 0
}