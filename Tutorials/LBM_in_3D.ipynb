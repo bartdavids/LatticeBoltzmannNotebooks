{
  "cells": [
    {
      "cell_type": "markdown",
      "metadata": {
        "id": "ZTssM17JsV53"
      },
      "source": [
        "# The Lattice Boltzmann Method - 3D\n",
        "\n",
        "This notebook uses the Lattice Boltzmann (LBM) Method for numerical simulation of fluid flow, writte in python and jax.\n",
        "\n",
        "jax is used to jit (just-in-time) the code, which speeds it up significantly.\n",
        "\n",
        "The code is adjusted from the the code presented by Machine Learning & Simulation (MLS) in 2D:\n",
        "- [Youtube](https://www.youtube.com/watch?v=ZUXmO4hu-20&list=LL&index=1&ab_channel=MachineLearning%26Simulation)\n",
        "- [Git](https://github.com/Ceyron/machine-learning-and-simulation/blob/main/english/simulation_scripts/lattice_boltzmann_method_python_jax.py)\n",
        "\n",
        "It is recommended to watch that video first, because a lot of explanation of this method, the setup and syntax mentioned in that video and code will be skipped here.\n",
        "\n",
        "## Dependencies\n",
        "Let's get started with importing all the relevant packages.\n",
        "\n",
        "Don't forget to enable GPU on this bad boy. 3D takes a lot longer, even with jitted code."
      ]
    },
    {
      "cell_type": "code",
      "execution_count": null,
      "metadata": {
        "id": "mp4VWE6gOEHT"
      },
      "outputs": [],
      "source": [
        "import numpy as np\n",
        "import jax\n",
        "import jax.numpy as jnp\n",
        "import matplotlib.pyplot as plt\n",
        "import cmasher as cmr\n",
        "from tqdm import tqdm\n",
        "\n",
        "jax.config.update(\"jax_enable_x64\", True) # Set to False for more free memory, but less accuracy"
      ]
    },
    {
      "cell_type": "markdown",
      "metadata": {
        "id": "uhWOXzT6v8Kg"
      },
      "source": [
        "# Setup of the domain\n",
        "The fluid flow simulation we are preparing is a cylinder in fluid flow, with the aim to make a Karman Vortex Street behind the cylinder. The modelled domain is going to be 300 cells along the x-axis and 50 along the y- and z-axis. The fluid is going to flow into the domain from the left, where x = 0.\n",
        "\n",
        "In below cell is also the viscosity defined. The viscosity determines the Reynolds number, which is a measure of the characteristics of the flow, and the relaxation $\\omega$, which is a relaxation parameter for the LBM method. The inverse ($1/\\omega$) is the relaxation time $\\tau$."
      ]
    },
    {
      "cell_type": "code",
      "execution_count": null,
      "metadata": {
        "id": "ZrMtXqgmXD5F"
      },
      "outputs": [],
      "source": [
        "cylinder_radius = 5\n",
        "ny = 50\n",
        "nz = 50\n",
        "nx = 300\n",
        "\n",
        "KINEMATIC_VISCOSITY = 0.0025\n",
        "HORIZONTAL_INFLOW_VELOCITY = 0.04\n",
        "\n",
        "reynolds_number = (HORIZONTAL_INFLOW_VELOCITY * cylinder_radius) / KINEMATIC_VISCOSITY\n",
        "RELAXATION_OMEGA = (1.0 / (3.0 * KINEMATIC_VISCOSITY + 0.5))\n",
        "\n",
        "print('Reynolds number:', reynolds_number)"
      ]
    },
    {
      "cell_type": "markdown",
      "metadata": {
        "id": "FNMHcqov35Jj"
      },
      "source": [
        "The way the cylinder is stored as an object is as a boolean 3D array. Why a cylinder, you may ask. isn't that just a 2D problem? It is, but this way we can compare it to the 2D model by MLS. Feel free to add more interesting shapes."
      ]
    },
    {
      "cell_type": "code",
      "execution_count": null,
      "metadata": {
        "id": "cLHABP9zs0WO"
      },
      "outputs": [],
      "source": [
        "x = jnp.arange(nx)\n",
        "y = jnp.arange(ny)\n",
        "z = jnp.arange(nz)\n",
        "X, Y, Z = jnp.meshgrid(x, y, z, indexing=\"ij\")\n",
        "\n",
        "radii = jnp.sqrt((X - nx//5)**2 + (Y - ny//2)**2)\n",
        "obstacle_mask = radii < cylinder_radius\n",
        "\n",
        "print('Top view:')\n",
        "plt.imshow(obstacle_mask[:, :, nz//2].T)\n",
        "plt.show()\n",
        "print('\\nFront view:')\n",
        "plt.imshow(obstacle_mask[nx//5, :, :].T)\n",
        "plt.show()\n",
        "print('\\nSide view:')\n",
        "plt.imshow(obstacle_mask[:, ny//2, :].T)\n",
        "plt.show()"
      ]
    },
    {
      "cell_type": "markdown",
      "metadata": {
        "id": "7RrHE-9aMALV"
      },
      "source": [
        "## D3Q19 - LBM\n",
        "For the 3D version of the LBM method there is choice between D3Q15, D3Q19 and D3Q27. Here we are going to model the D3Q19 version. D3 means we are going to model in 3 dimensions. Q19 means that we have 19 vectors in our lattice as per this image (from [here](https://www.researchgate.net/publication/290158292_An_introduction_to_Lattice-Boltzmann_methods)):\n",
        "\n",
        "![picture](https://drive.google.com/uc?id=1PAB1skjiYuenaNFffzURdcGxulT0_jpv)\n",
        "\n",
        "For the BGK method, you need to know the opposite lattice velocity.\n",
        "\n",
        "For the 3D Zou/He scheme, you need to know the vertices that are on the left of the inflow (where x = 0, LEFT_VELOCITIES) and the vertices that are on x = 0 (YZ_VELOCITIES) to calculate the pressure and velocity of the particles going from x = 0 to the right (RIGHT_PARTICLES).\n",
        "\n",
        "Also, the lattice weights are defined."
      ]
    },
    {
      "cell_type": "code",
      "execution_count": null,
      "metadata": {
        "id": "g_rtt8_5AHSL"
      },
      "outputs": [],
      "source": [
        "N_DISCRETE_VELOCITIES = 19\n",
        "\n",
        "LATTICE_INDICES =          jnp.array([ 0, 1, 2, 3, 4, 5, 6, 7, 8, 9,10,11,12,13,14,15,16,17,18])\n",
        "LATICE_VELOCITIES_X =      jnp.array([ 0, 1, 0,-1, 0, 0, 0, 1,-1,-1, 1, 1,-1,-1, 1, 0, 0, 0, 0])\n",
        "LATICE_VELOCITIES_Y =      jnp.array([ 0, 0, 1, 0,-1, 0, 0, 1, 1,-1,-1, 0, 0, 0, 0, 1,-1,-1, 1])\n",
        "LATICE_VELOCITIES_Z =      jnp.array([ 0, 0, 0, 0, 0, 1,-1, 0, 0, 0, 0, 1, 1,-1,-1, 1, 1,-1,-1])\n",
        "\n",
        "OPPOSITE_LATTICE_INDICES = jnp.array([ 0, 3, 4, 1, 2, 6, 5, 9,10, 7, 8,13,14,11,12,17,18,15,16])\n",
        "\n",
        "LATTICE_VELOCITIES = jnp.array([LATICE_VELOCITIES_X,\n",
        "                                LATICE_VELOCITIES_Y,\n",
        "                                LATICE_VELOCITIES_Z])\n",
        "\n",
        "\n",
        "\n",
        "LATTICE_WEIGHTS = jnp.array([# rest particle\n",
        "                             1/3,\n",
        "\n",
        "                             # face-connected neighbors\n",
        "                             1/18, 1/18, 1/18, 1/18, 1/18, 1/18,\n",
        "\n",
        "                             # edge-connected neighbors\n",
        "                             1/36, 1/36, 1/36, 1/36, 1/36, 1/36, 1/36, 1/36, 1/36, 1/36, 1/36, 1/36])\n",
        "\n",
        "RIGHT_VELOCITIES = jnp.array([1, 7, 10, 11, 14])             # LATICE_VELOCITIES_X = 1\n",
        "LEFT_VELOCITIES = jnp.array([3, 8, 9, 12, 13])               # LATICE_VELOCITIES_X =-1\n",
        "YZ_VELOCITIES = jnp.array([0, 2, 4, 5, 6, 15, 16, 17, 18])   # LATICE_VELOCITIES_X = 0"
      ]
    },
    {
      "cell_type": "markdown",
      "metadata": {
        "id": "_TrcjfS8RJAL"
      },
      "source": [
        "## Density\n",
        "From 2D to 3D, nothing changes in the code when it comes to computing the density. It still is simply summing over all the lattice velocities, for each velocity. Instead of the shape (nx, ny, 9), the shape of the discrete velocities is not (nx, ny, nz, 19), which still means summing over the final axis.\n",
        "\n",
        "## Macrosocopic velocities\n",
        "In the Einstein summation the new z-axis should be added. In 2D, the summation was: \"NMQ,dQ->NMd\", where N and M are axes indicatng the x- and y-axes. In 3D the z-axis is added as L: \"NMLQ,dQ->NMLd\" or the elipsoid operator (...) can be used. Now it doesn't matter if the input is a 2D or 3D array!\n",
        "\n",
        "## Equilibrium discrete velocities\n",
        "The same adjustment to the Einstein summation for projecting the discrete velocities is necessary. \"NMQ,dQ->NMd\" becomes \"...Q,dQ->...d\".\n",
        "\n",
        "Throughout this part and subsequent parts, the addition of axes (with jnp.newaxis, or None), transposing and setting over specific axes (with: for instance:\n",
        "[:, :, :] or [...]) should take the additional z-axis in consideration.\n"
      ]
    },
    {
      "cell_type": "code",
      "execution_count": null,
      "metadata": {
        "id": "lnk3SzHw7k0U"
      },
      "outputs": [],
      "source": [
        "def get_density(discrete_velocities):\n",
        "    return jnp.sum(discrete_velocities, axis=-1)\n",
        "\n",
        "def get_macroscopic_velocities(discrete_velocities, density):\n",
        "    return jnp.einsum(\"...Q, dQ -> ...d\", discrete_velocities, LATTICE_VELOCITIES) / density[..., jnp.newaxis]\n",
        "\n",
        "def get_equilibrium_discrete_velocities(macroscopic_velocities, density):\n",
        "    projected_discrete_velocities = jnp.einsum(\"dQ, ...d -> ...Q\", LATTICE_VELOCITIES, macroscopic_velocities)\n",
        "    macroscopic_velocity_magnitude = jnp.linalg.norm(macroscopic_velocities, axis=-1, ord=2)\n",
        "    equilibrium_discrete_velocities = (jnp.einsum(\"..., Q -> ...Q\", density, LATTICE_WEIGHTS) *\n",
        "        (1 + 3 * projected_discrete_velocities + 9/2 * projected_discrete_velocities**2 -\n",
        "        3/2 * macroscopic_velocity_magnitude[..., jnp.newaxis]**2))\n",
        "    return equilibrium_discrete_velocities\n",
        "\n",
        "\n",
        "VELOCITY_PROFILE = jnp.zeros((nx, ny, nz, 3))\n",
        "VELOCITY_PROFILE = VELOCITY_PROFILE.at[:, :, :, 0].set(HORIZONTAL_INFLOW_VELOCITY)\n",
        "discrete_velocities_prev = get_equilibrium_discrete_velocities(VELOCITY_PROFILE,\n",
        "                                                               jnp.ones((nx, ny, nz)))\n",
        "discrete_velocities_prev[:, :, 1]"
      ]
    },
    {
      "cell_type": "markdown",
      "metadata": {
        "id": "tMNApFpfQ7WN"
      },
      "source": [
        "## The steps of the LBM\n",
        "The 7 steps as given in the MLS video and code are not adjusted much. The same boundary conditions and order of the steps are used. Mostly it is adding the right axis in the right place. The notable exceptions:\n",
        "- In step 3, in the Zou/He scheme, where the density at the inflow boundary is being determined. In 2D, this is done with the purely vertical lattice velocities. In 3D the entire plane where the lattive velocity over x equals 0 should be taken (variable YZ_VELOCITIES).\n",
        "- In step 7, a for-loop is used to take into account 2D and 3D input."
      ]
    },
    {
      "cell_type": "code",
      "execution_count": null,
      "metadata": {
        "id": "nd5FBXjrvCZ9"
      },
      "outputs": [],
      "source": [
        "@jax.jit\n",
        "def update(discrete_velocities_prev):\n",
        "    # (1) Prescribe the outflow BC on the right boundary. Flow can go out, but not back in.\n",
        "    discrete_velocities_prev = discrete_velocities_prev.at[-1, ..., LEFT_VELOCITIES].set(discrete_velocities_prev[-2, ..., LEFT_VELOCITIES])\n",
        "\n",
        "    # (2) Determine macroscopic velocities\n",
        "    density_prev = get_density(discrete_velocities_prev)\n",
        "    macroscopic_velocities_prev = get_macroscopic_velocities(\n",
        "        discrete_velocities_prev,\n",
        "        density_prev)\n",
        "\n",
        "    # (3) Prescribe Inflow Dirichlet BC using Zou/He scheme in 3D:\n",
        "    # https://arxiv.org/pdf/0811.4593.pdf\n",
        "    # https://terpconnect.umd.edu/~aydilek/papers/LB.pdf\n",
        "    macroscopic_velocities_prev = macroscopic_velocities_prev.at[0, ..., :].set(VELOCITY_PROFILE[0, ..., :])\n",
        "    lateral_densities = get_density(jnp.einsum('i...->...i', discrete_velocities_prev[0, ..., YZ_VELOCITIES]))\n",
        "    left_densities = get_density(jnp.einsum('i...->...i', discrete_velocities_prev[0, ..., LEFT_VELOCITIES]))\n",
        "    density_prev = density_prev.at[0, ...].set((lateral_densities + 2 * left_densities) /\n",
        "                                                (1 - macroscopic_velocities_prev[0, ..., 0]))\n",
        "\n",
        "    # (4) Compute discrete Equilibria velocities\n",
        "    equilibrium_discrete_velocities = get_equilibrium_discrete_velocities(\n",
        "       macroscopic_velocities_prev,\n",
        "       density_prev)\n",
        "\n",
        "    # (3) Belongs to the Zou/He scheme\n",
        "    discrete_velocities_prev =\\\n",
        "          discrete_velocities_prev.at[0, ..., RIGHT_VELOCITIES].set(\n",
        "              equilibrium_discrete_velocities[0, ..., RIGHT_VELOCITIES])\n",
        "\n",
        "    # (5) Collide according to BGK\n",
        "    discrete_velocities_post_collision = (discrete_velocities_prev - RELAXATION_OMEGA *\n",
        "          (discrete_velocities_prev - equilibrium_discrete_velocities))\n",
        "\n",
        "    # (6) Bounce-Back Boundary Conditions to enfore the no-slip\n",
        "    for i in range(N_DISCRETE_VELOCITIES):\n",
        "        discrete_velocities_post_collision = discrete_velocities_post_collision.at[obstacle_mask, LATTICE_INDICES[i]].set(\n",
        "                                                      discrete_velocities_prev[obstacle_mask, OPPOSITE_LATTICE_INDICES[i]])\n",
        "\n",
        "\n",
        "    # (7) Stream alongside lattice velocities\n",
        "    discrete_velocities_streamed = discrete_velocities_post_collision\n",
        "    for i in range(N_DISCRETE_VELOCITIES):\n",
        "        discrete_velocities_streamed_i = discrete_velocities_post_collision[..., i]\n",
        "        for axis in range(LATTICE_VELOCITIES.shape[0]):\n",
        "              discrete_velocities_streamed_i = jnp.roll(discrete_velocities_streamed_i, LATTICE_VELOCITIES[axis, i], axis = axis)\n",
        "        discrete_velocities_streamed = discrete_velocities_streamed.at[..., i].set(discrete_velocities_streamed_i)\n",
        "\n",
        "    return discrete_velocities_streamed"
      ]
    },
    {
      "cell_type": "markdown",
      "metadata": {
        "id": "fydQgEq40Mgy"
      },
      "source": [
        "## Ready to run!\n",
        "Now we define the parameters for plotting and running and innitialize the discrete velocities.\n",
        "\n",
        "And then we run!"
      ]
    },
    {
      "cell_type": "code",
      "execution_count": null,
      "metadata": {
        "id": "OanMpMvrolwU"
      },
      "outputs": [],
      "source": [
        "PLOT_EVERY_N_STEPS = 500\n",
        "SKIP_FIRST_N_ITERATIONS = 20000\n",
        "N_ITERATIONS = 40000\n",
        "\n",
        "VELOCITY_PROFILE = jnp.zeros((nx, ny, nz, 3))\n",
        "VELOCITY_PROFILE = VELOCITY_PROFILE.at[:, :, :, 0].set(HORIZONTAL_INFLOW_VELOCITY)\n",
        "discrete_velocities_prev = get_equilibrium_discrete_velocities(VELOCITY_PROFILE,\n",
        "                                                               jnp.ones((nx, ny, nz)))\n",
        "discrete_velocities_prev[:, :, 50, 19]"
      ]
    },
    {
      "cell_type": "code",
      "execution_count": null,
      "metadata": {
        "colab": {
          "background_save": true
        },
        "id": "iWW2hn_mFkK0"
      },
      "outputs": [],
      "source": [
        "\n",
        "def run(discrete_velocities_prev):\n",
        "    for i in tqdm(range(N_ITERATIONS)):\n",
        "        discrete_velocities_next = update(discrete_velocities_prev)\n",
        "        discrete_velocities_prev = discrete_velocities_next\n",
        "\n",
        "        if i % PLOT_EVERY_N_STEPS == 0 and i > SKIP_FIRST_N_ITERATIONS - PLOT_EVERY_N_STEPS:\n",
        "            density = get_density(discrete_velocities_next)\n",
        "            macroscopic_velocities = get_macroscopic_velocities(\n",
        "                discrete_velocities_next,\n",
        "                density)\n",
        "            velocity_magnitude = jnp.linalg.norm(\n",
        "                macroscopic_velocities,\n",
        "                axis=-1,\n",
        "                ord=2)\n",
        "            fig = plt.figure(figsize = (15, 3))\n",
        "            cont = plt.contourf(X[:, :, nz//2], Y[:, :,  nz//2], jnp.flip(velocity_magnitude[:, :,  nz//2], axis = 1), alpha=0.8, cmap=cmr.amber)\n",
        "            plt.axis('scaled')\n",
        "            plt.axis('off')\n",
        "            plt.show()\n",
        "\n",
        "    return\n",
        "\n",
        "run(discrete_velocities_prev)"
      ]
    },
    {
      "cell_type": "code",
      "execution_count": null,
      "metadata": {
        "id": "zwGxeG1PyDun"
      },
      "outputs": [],
      "source": []
    }
  ],
  "metadata": {
    "accelerator": "GPU",
    "colab": {
      "provenance": []
    },
    "kernelspec": {
      "display_name": "Python 3",
      "name": "python3"
    },
    "language_info": {
      "name": "python"
    }
  },
  "nbformat": 4,
  "nbformat_minor": 0
}